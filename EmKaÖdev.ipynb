{
 "cells": [
  {
   "cell_type": "markdown",
   "id": "f8a73186",
   "metadata": {},
   "source": [
    "## KÜTÜPHANELERİN YÜKLENMESİ"
   ]
  },
  {
   "cell_type": "code",
   "execution_count": 1,
   "id": "98e63e6e",
   "metadata": {},
   "outputs": [],
   "source": [
    "import numpy as np\n",
    "import pandas as pd\n",
    "import matplotlib.pyplot as plt\n",
    "import seaborn as sns\n",
    "import warnings\n",
    "import time\n",
    "from sklearn.preprocessing import LabelEncoder, OneHotEncoder, RobustScaler, StandardScaler, MinMaxScaler,OrdinalEncoder\n",
    "from catboost import CatBoostClassifier\n",
    "from lightgbm import LGBMClassifier\n",
    "from sklearn.ensemble import RandomForestClassifier, GradientBoostingClassifier\n",
    "from sklearn import tree\n",
    "from sklearn.linear_model import LogisticRegression\n",
    "from sklearn.neighbors import KNeighborsClassifier\n",
    "from sklearn.svm import SVC\n",
    "from sklearn.tree import DecisionTreeClassifier\n",
    "from xgboost import XGBClassifier\n",
    "import lightgbm as lgb\n",
    "from sklearn.metrics import accuracy_score, precision_score, recall_score, f1_score, confusion_matrix,classification_report\n",
    "from sklearn.model_selection import train_test_split, cross_validate, GridSearchCV, RandomizedSearchCV\n",
    "import warnings\n",
    "\n",
    "warnings.filterwarnings(\"ignore\")"
   ]
  },
  {
   "cell_type": "markdown",
   "id": "15490610",
   "metadata": {},
   "source": [
    "## VERİNİN OKUNMASI VE ANALİZİ"
   ]
  },
  {
   "cell_type": "code",
   "execution_count": 2,
   "id": "6a3b0cab",
   "metadata": {},
   "outputs": [],
   "source": [
    "df = pd.read_csv(\"car_acceptability.txt\",header=None)"
   ]
  },
  {
   "cell_type": "code",
   "execution_count": 3,
   "id": "0d35b1bc",
   "metadata": {},
   "outputs": [
    {
     "data": {
      "text/html": [
       "<div>\n",
       "<style scoped>\n",
       "    .dataframe tbody tr th:only-of-type {\n",
       "        vertical-align: middle;\n",
       "    }\n",
       "\n",
       "    .dataframe tbody tr th {\n",
       "        vertical-align: top;\n",
       "    }\n",
       "\n",
       "    .dataframe thead th {\n",
       "        text-align: right;\n",
       "    }\n",
       "</style>\n",
       "<table border=\"1\" class=\"dataframe\">\n",
       "  <thead>\n",
       "    <tr style=\"text-align: right;\">\n",
       "      <th></th>\n",
       "      <th>0</th>\n",
       "      <th>1</th>\n",
       "      <th>2</th>\n",
       "      <th>3</th>\n",
       "      <th>4</th>\n",
       "      <th>5</th>\n",
       "      <th>6</th>\n",
       "    </tr>\n",
       "  </thead>\n",
       "  <tbody>\n",
       "    <tr>\n",
       "      <th>0</th>\n",
       "      <td>vhigh</td>\n",
       "      <td>vhigh</td>\n",
       "      <td>2</td>\n",
       "      <td>2</td>\n",
       "      <td>small</td>\n",
       "      <td>low</td>\n",
       "      <td>unacc</td>\n",
       "    </tr>\n",
       "    <tr>\n",
       "      <th>1</th>\n",
       "      <td>vhigh</td>\n",
       "      <td>vhigh</td>\n",
       "      <td>2</td>\n",
       "      <td>2</td>\n",
       "      <td>small</td>\n",
       "      <td>med</td>\n",
       "      <td>unacc</td>\n",
       "    </tr>\n",
       "    <tr>\n",
       "      <th>2</th>\n",
       "      <td>vhigh</td>\n",
       "      <td>vhigh</td>\n",
       "      <td>2</td>\n",
       "      <td>?</td>\n",
       "      <td>small</td>\n",
       "      <td>high</td>\n",
       "      <td>unacc</td>\n",
       "    </tr>\n",
       "    <tr>\n",
       "      <th>3</th>\n",
       "      <td>vhigh</td>\n",
       "      <td>vhigh</td>\n",
       "      <td>2</td>\n",
       "      <td>2</td>\n",
       "      <td>med</td>\n",
       "      <td>low</td>\n",
       "      <td>unacc</td>\n",
       "    </tr>\n",
       "    <tr>\n",
       "      <th>4</th>\n",
       "      <td>vhigh</td>\n",
       "      <td>vhigh</td>\n",
       "      <td>2</td>\n",
       "      <td>2</td>\n",
       "      <td>med</td>\n",
       "      <td>?</td>\n",
       "      <td>unacc</td>\n",
       "    </tr>\n",
       "  </tbody>\n",
       "</table>\n",
       "</div>"
      ],
      "text/plain": [
       "       0      1  2  3      4     5      6\n",
       "0  vhigh  vhigh  2  2  small   low  unacc\n",
       "1  vhigh  vhigh  2  2  small   med  unacc\n",
       "2  vhigh  vhigh  2  ?  small  high  unacc\n",
       "3  vhigh  vhigh  2  2    med   low  unacc\n",
       "4  vhigh  vhigh  2  2    med     ?  unacc"
      ]
     },
     "execution_count": 3,
     "metadata": {},
     "output_type": "execute_result"
    }
   ],
   "source": [
    "df.head()"
   ]
  },
  {
   "cell_type": "code",
   "execution_count": 4,
   "id": "d3a24689",
   "metadata": {},
   "outputs": [],
   "source": [
    "base_columns = [\"buying\",\"maint\",\"doors\",\"persons\",\"lug_boot\",\"safety\",\"Classs\"]"
   ]
  },
  {
   "cell_type": "code",
   "execution_count": 5,
   "id": "0b43f00d",
   "metadata": {},
   "outputs": [],
   "source": [
    "df.columns = base_columns"
   ]
  },
  {
   "cell_type": "code",
   "execution_count": 6,
   "id": "93c02da4",
   "metadata": {},
   "outputs": [
    {
     "data": {
      "text/html": [
       "<div>\n",
       "<style scoped>\n",
       "    .dataframe tbody tr th:only-of-type {\n",
       "        vertical-align: middle;\n",
       "    }\n",
       "\n",
       "    .dataframe tbody tr th {\n",
       "        vertical-align: top;\n",
       "    }\n",
       "\n",
       "    .dataframe thead th {\n",
       "        text-align: right;\n",
       "    }\n",
       "</style>\n",
       "<table border=\"1\" class=\"dataframe\">\n",
       "  <thead>\n",
       "    <tr style=\"text-align: right;\">\n",
       "      <th></th>\n",
       "      <th>buying</th>\n",
       "      <th>maint</th>\n",
       "      <th>doors</th>\n",
       "      <th>persons</th>\n",
       "      <th>lug_boot</th>\n",
       "      <th>safety</th>\n",
       "      <th>Classs</th>\n",
       "    </tr>\n",
       "  </thead>\n",
       "  <tbody>\n",
       "    <tr>\n",
       "      <th>0</th>\n",
       "      <td>vhigh</td>\n",
       "      <td>vhigh</td>\n",
       "      <td>2</td>\n",
       "      <td>2</td>\n",
       "      <td>small</td>\n",
       "      <td>low</td>\n",
       "      <td>unacc</td>\n",
       "    </tr>\n",
       "    <tr>\n",
       "      <th>1</th>\n",
       "      <td>vhigh</td>\n",
       "      <td>vhigh</td>\n",
       "      <td>2</td>\n",
       "      <td>2</td>\n",
       "      <td>small</td>\n",
       "      <td>med</td>\n",
       "      <td>unacc</td>\n",
       "    </tr>\n",
       "    <tr>\n",
       "      <th>2</th>\n",
       "      <td>vhigh</td>\n",
       "      <td>vhigh</td>\n",
       "      <td>2</td>\n",
       "      <td>?</td>\n",
       "      <td>small</td>\n",
       "      <td>high</td>\n",
       "      <td>unacc</td>\n",
       "    </tr>\n",
       "    <tr>\n",
       "      <th>3</th>\n",
       "      <td>vhigh</td>\n",
       "      <td>vhigh</td>\n",
       "      <td>2</td>\n",
       "      <td>2</td>\n",
       "      <td>med</td>\n",
       "      <td>low</td>\n",
       "      <td>unacc</td>\n",
       "    </tr>\n",
       "    <tr>\n",
       "      <th>4</th>\n",
       "      <td>vhigh</td>\n",
       "      <td>vhigh</td>\n",
       "      <td>2</td>\n",
       "      <td>2</td>\n",
       "      <td>med</td>\n",
       "      <td>?</td>\n",
       "      <td>unacc</td>\n",
       "    </tr>\n",
       "  </tbody>\n",
       "</table>\n",
       "</div>"
      ],
      "text/plain": [
       "  buying  maint doors persons lug_boot safety Classs\n",
       "0  vhigh  vhigh     2       2    small    low  unacc\n",
       "1  vhigh  vhigh     2       2    small    med  unacc\n",
       "2  vhigh  vhigh     2       ?    small   high  unacc\n",
       "3  vhigh  vhigh     2       2      med    low  unacc\n",
       "4  vhigh  vhigh     2       2      med      ?  unacc"
      ]
     },
     "execution_count": 6,
     "metadata": {},
     "output_type": "execute_result"
    }
   ],
   "source": [
    "df.head()"
   ]
  },
  {
   "cell_type": "code",
   "execution_count": 7,
   "id": "5c183849",
   "metadata": {},
   "outputs": [
    {
     "data": {
      "text/plain": [
       "buying      1\n",
       "maint       0\n",
       "doors       0\n",
       "persons     0\n",
       "lug_boot    0\n",
       "safety      1\n",
       "Classs      0\n",
       "dtype: int64"
      ]
     },
     "execution_count": 7,
     "metadata": {},
     "output_type": "execute_result"
    }
   ],
   "source": [
    "df.isnull().sum()"
   ]
  },
  {
   "cell_type": "markdown",
   "id": "60c0e584",
   "metadata": {},
   "source": [
    "## GÖRSELLEŞTİRME\n",
    "## ANLAMSIZ VERİLERİN DÜZELTİLMESİ"
   ]
  },
  {
   "cell_type": "code",
   "execution_count": 8,
   "id": "9be0e987",
   "metadata": {},
   "outputs": [],
   "source": [
    "unknown_values = {\"?\":pd.NA,\n",
    "      \"-\":pd.NA,\n",
    "      \"*\":pd.NA}"
   ]
  },
  {
   "cell_type": "code",
   "execution_count": 9,
   "id": "975f1421",
   "metadata": {
    "scrolled": true
   },
   "outputs": [],
   "source": [
    "df.replace(unknown_values,inplace=True)"
   ]
  },
  {
   "cell_type": "code",
   "execution_count": 10,
   "id": "58cb3e79",
   "metadata": {},
   "outputs": [],
   "source": [
    "df.dropna(inplace=True)"
   ]
  },
  {
   "cell_type": "code",
   "execution_count": 11,
   "id": "405c0ddb",
   "metadata": {
    "scrolled": true
   },
   "outputs": [
    {
     "data": {
      "text/plain": [
       "(1714, 7)"
      ]
     },
     "execution_count": 11,
     "metadata": {},
     "output_type": "execute_result"
    }
   ],
   "source": [
    "df.shape"
   ]
  },
  {
   "cell_type": "code",
   "execution_count": 12,
   "id": "8a5b1ea6",
   "metadata": {
    "scrolled": true
   },
   "outputs": [
    {
     "data": {
      "text/plain": [
       "<AxesSubplot:xlabel='Classs', ylabel='count'>"
      ]
     },
     "execution_count": 12,
     "metadata": {},
     "output_type": "execute_result"
    },
    {
     "data": {
      "image/png": "[encoded data removed]",
      "text/plain": [
       "<Figure size 432x288 with 1 Axes>"
      ]
     },
     "metadata": {
      "needs_background": "light"
     },
     "output_type": "display_data"
    }
   ],
   "source": [
    "sns.countplot(data=df,x=\"Classs\")"
   ]
  },
  {
   "cell_type": "code",
   "execution_count": 13,
   "id": "34ac1b48",
   "metadata": {
    "scrolled": true
   },
   "outputs": [
    {
     "data": {
      "image/png": "[encoded data removed]",
      "text/plain": [
       "<Figure size 432x288 with 1 Axes>"
      ]
     },
     "metadata": {
      "needs_background": "light"
     },
     "output_type": "display_data"
    },
    {
     "data": {
      "image/png": "[encoded data removed]",
      "text/plain": [
       "<Figure size 432x288 with 1 Axes>"
      ]
     },
     "metadata": {
      "needs_background": "light"
     },
     "output_type": "display_data"
    },
    {
     "data": {
      "image/png": "[encoded data removed]",
      "text/plain": [
       "<Figure size 432x288 with 1 Axes>"
      ]
     },
     "metadata": {
      "needs_background": "light"
     },
     "output_type": "display_data"
    },
    {
     "data": {
      "image/png": "[encoded data removed]",
      "text/plain": [
       "<Figure size 432x288 with 1 Axes>"
      ]
     },
     "metadata": {
      "needs_background": "light"
     },
     "output_type": "display_data"
    },
    {
     "data": {
      "image/png": "[encoded data removed]",
      "text/plain": [
       "<Figure size 432x288 with 1 Axes>"
      ]
     },
     "metadata": {
      "needs_background": "light"
     },
     "output_type": "display_data"
    },
    {
     "data": {
      "image/png": "[encoded data removed]",
      "text/plain": [
       "<Figure size 432x288 with 1 Axes>"
      ]
     },
     "metadata": {
      "needs_background": "light"
     },
     "output_type": "display_data"
    },
    {
     "data": {
      "image/png": "[encoded data removed]",
      "text/plain": [
       "<Figure size 432x288 with 1 Axes>"
      ]
     },
     "metadata": {
      "needs_background": "light"
     },
     "output_type": "display_data"
    }
   ],
   "source": [
    "for col in df.columns:\n",
    "    sns.countplot(data=df,x=col)\n",
    "    plt.show(block=True)"
   ]
  },
  {
   "cell_type": "code",
   "execution_count": 14,
   "id": "dea7b4e4",
   "metadata": {},
   "outputs": [
    {
     "name": "stdout",
     "output_type": "stream",
     "text": [
      "<class 'pandas.core.frame.DataFrame'>\n",
      "Int64Index: 1714 entries, 0 to 1727\n",
      "Data columns (total 7 columns):\n",
      " #   Column    Non-Null Count  Dtype \n",
      "---  ------    --------------  ----- \n",
      " 0   buying    1714 non-null   object\n",
      " 1   maint     1714 non-null   object\n",
      " 2   doors     1714 non-null   object\n",
      " 3   persons   1714 non-null   object\n",
      " 4   lug_boot  1714 non-null   object\n",
      " 5   safety    1714 non-null   object\n",
      " 6   Classs    1714 non-null   object\n",
      "dtypes: object(7)\n",
      "memory usage: 107.1+ KB\n"
     ]
    }
   ],
   "source": [
    "df.info()"
   ]
  },
  {
   "cell_type": "markdown",
   "id": "b60e3e88",
   "metadata": {},
   "source": [
    "## ORDİNAL FARKLILIKLARIN DÜZELTİLMESİ"
   ]
  },
  {
   "cell_type": "code",
   "execution_count": 15,
   "id": "1fff7eab",
   "metadata": {
    "scrolled": true
   },
   "outputs": [
    {
     "name": "stdout",
     "output_type": "stream",
     "text": [
      "0       vhigh\n",
      "1       vhigh\n",
      "3       vhigh\n",
      "5       vhigh\n",
      "6       vhigh\n",
      "        ...  \n",
      "1723      low\n",
      "1724      low\n",
      "1725      low\n",
      "1726      low\n",
      "1727      low\n",
      "Name: buying, Length: 1714, dtype: category\n",
      "Categories (5, object): ['düsük' < 'high' < 'low' < 'med' < 'vhigh']\n",
      "0       vhigh\n",
      "1       vhigh\n",
      "3       vhigh\n",
      "5       vhigh\n",
      "6       vhigh\n",
      "        ...  \n",
      "1723      low\n",
      "1724      low\n",
      "1725      low\n",
      "1726      low\n",
      "1727      low\n",
      "Name: maint, Length: 1714, dtype: category\n",
      "Categories (4, object): ['high' < 'low' < 'med' < 'vhigh']\n",
      "0           2\n",
      "1           2\n",
      "3           2\n",
      "5           2\n",
      "6           2\n",
      "        ...  \n",
      "1723    5more\n",
      "1724    5more\n",
      "1725    5more\n",
      "1726    5more\n",
      "1727    5more\n",
      "Name: doors, Length: 1714, dtype: category\n",
      "Categories (7, object): ['2' < '3' < '4' < '44' < '5+' < '5more' < 'iki']\n",
      "0          2\n",
      "1          2\n",
      "3          2\n",
      "5          2\n",
      "6          2\n",
      "        ... \n",
      "1723    more\n",
      "1724    more\n",
      "1725    more\n",
      "1726    more\n",
      "1727    more\n",
      "Name: persons, Length: 1714, dtype: category\n",
      "Categories (3, object): ['2' < '4' < 'more']\n",
      "0       small\n",
      "1       small\n",
      "3         med\n",
      "5         med\n",
      "6         big\n",
      "        ...  \n",
      "1723      med\n",
      "1724      med\n",
      "1725      big\n",
      "1726      big\n",
      "1727      big\n",
      "Name: lug_boot, Length: 1714, dtype: category\n",
      "Categories (3, object): ['big' < 'med' < 'small']\n",
      "0        low\n",
      "1        med\n",
      "3        low\n",
      "5       high\n",
      "6        low\n",
      "        ... \n",
      "1723     med\n",
      "1724    high\n",
      "1725     low\n",
      "1726     med\n",
      "1727    high\n",
      "Name: safety, Length: 1714, dtype: category\n",
      "Categories (3, object): ['high' < 'low' < 'med']\n",
      "0       unacc\n",
      "1       unacc\n",
      "3       unacc\n",
      "5       unacc\n",
      "6       unacc\n",
      "        ...  \n",
      "1723     good\n",
      "1724    vgood\n",
      "1725    unacc\n",
      "1726     good\n",
      "1727    vgood\n",
      "Name: Classs, Length: 1714, dtype: category\n",
      "Categories (4, object): ['acc' < 'good' < 'unacc' < 'vgood']\n"
     ]
    }
   ],
   "source": [
    "from pandas.api.types import CategoricalDtype\n",
    "for col in df.columns:\n",
    "    print(df[col].astype(CategoricalDtype(ordered=True)))\n"
   ]
  },
  {
   "cell_type": "code",
   "execution_count": 16,
   "id": "152316c8",
   "metadata": {},
   "outputs": [],
   "source": [
    "replacement_mapping = {\n",
    "    \"düsük\": \"low\",\"5+\":\"5more\" , \"?\" : pd.NA, \"*\" : pd.NA, \"-\" : pd.NA,\"44\":\"4\",\"iki\":\"2\"\n",
    "}"
   ]
  },
  {
   "cell_type": "code",
   "execution_count": 17,
   "id": "6103af35",
   "metadata": {},
   "outputs": [],
   "source": [
    "df.replace(replacement_mapping,inplace=True)"
   ]
  },
  {
   "cell_type": "code",
   "execution_count": 18,
   "id": "07aee656",
   "metadata": {},
   "outputs": [],
   "source": [
    "buying_categories=['low','med' ,'high', 'vhigh']\n",
    "maint_categories = ['low','med' ,'high', 'vhigh']\n",
    "lugboot_categories = [\"small\",\"med\",\"big\"]\n",
    "safety_categories =[\"low\",\"med\",\"high\"]\n",
    "Classs_categories=[\"unacc\",\"acc\",\"good\",\"vgood\"]"
   ]
  },
  {
   "cell_type": "code",
   "execution_count": 19,
   "id": "cd4eec9f",
   "metadata": {},
   "outputs": [],
   "source": [
    "df.buying=df.buying.astype(CategoricalDtype(buying_categories,ordered=True))"
   ]
  },
  {
   "cell_type": "code",
   "execution_count": 20,
   "id": "b4300f6a",
   "metadata": {},
   "outputs": [],
   "source": [
    "df.maint=df.maint.astype(CategoricalDtype(maint_categories,ordered=True))\n",
    "df.lug_boot=df.lug_boot.astype(CategoricalDtype(lugboot_categories,ordered=True))\n",
    "df.safety=df.safety.astype(CategoricalDtype(safety_categories,ordered=True))"
   ]
  },
  {
   "cell_type": "code",
   "execution_count": 21,
   "id": "251df44c",
   "metadata": {},
   "outputs": [],
   "source": [
    "df.Classs=df.Classs.astype(CategoricalDtype(Classs_categories,ordered=True))"
   ]
  },
  {
   "cell_type": "code",
   "execution_count": 22,
   "id": "0f04c99a",
   "metadata": {
    "scrolled": true
   },
   "outputs": [
    {
     "name": "stdout",
     "output_type": "stream",
     "text": [
      "0       vhigh\n",
      "1       vhigh\n",
      "3       vhigh\n",
      "5       vhigh\n",
      "6       vhigh\n",
      "        ...  \n",
      "1723      low\n",
      "1724      low\n",
      "1725      low\n",
      "1726      low\n",
      "1727      low\n",
      "Name: buying, Length: 1714, dtype: category\n",
      "Categories (4, object): ['low' < 'med' < 'high' < 'vhigh']\n",
      "0       vhigh\n",
      "1       vhigh\n",
      "3       vhigh\n",
      "5       vhigh\n",
      "6       vhigh\n",
      "        ...  \n",
      "1723      low\n",
      "1724      low\n",
      "1725      low\n",
      "1726      low\n",
      "1727      low\n",
      "Name: maint, Length: 1714, dtype: category\n",
      "Categories (4, object): ['low' < 'med' < 'high' < 'vhigh']\n",
      "0           2\n",
      "1           2\n",
      "3           2\n",
      "5           2\n",
      "6           2\n",
      "        ...  \n",
      "1723    5more\n",
      "1724    5more\n",
      "1725    5more\n",
      "1726    5more\n",
      "1727    5more\n",
      "Name: doors, Length: 1714, dtype: category\n",
      "Categories (4, object): ['2' < '3' < '4' < '5more']\n",
      "0          2\n",
      "1          2\n",
      "3          2\n",
      "5          2\n",
      "6          2\n",
      "        ... \n",
      "1723    more\n",
      "1724    more\n",
      "1725    more\n",
      "1726    more\n",
      "1727    more\n",
      "Name: persons, Length: 1714, dtype: category\n",
      "Categories (3, object): ['2' < '4' < 'more']\n",
      "0       small\n",
      "1       small\n",
      "3         med\n",
      "5         med\n",
      "6         big\n",
      "        ...  \n",
      "1723      med\n",
      "1724      med\n",
      "1725      big\n",
      "1726      big\n",
      "1727      big\n",
      "Name: lug_boot, Length: 1714, dtype: category\n",
      "Categories (3, object): ['small' < 'med' < 'big']\n",
      "0        low\n",
      "1        med\n",
      "3        low\n",
      "5       high\n",
      "6        low\n",
      "        ... \n",
      "1723     med\n",
      "1724    high\n",
      "1725     low\n",
      "1726     med\n",
      "1727    high\n",
      "Name: safety, Length: 1714, dtype: category\n",
      "Categories (3, object): ['low' < 'med' < 'high']\n",
      "0       unacc\n",
      "1       unacc\n",
      "3       unacc\n",
      "5       unacc\n",
      "6       unacc\n",
      "        ...  \n",
      "1723     good\n",
      "1724    vgood\n",
      "1725    unacc\n",
      "1726     good\n",
      "1727    vgood\n",
      "Name: Classs, Length: 1714, dtype: category\n",
      "Categories (4, object): ['unacc' < 'acc' < 'good' < 'vgood']\n"
     ]
    }
   ],
   "source": [
    "from pandas.api.types import CategoricalDtype\n",
    "for col in df.columns:\n",
    "    print(df[col].astype(CategoricalDtype(ordered=True)))"
   ]
  },
  {
   "cell_type": "markdown",
   "id": "922f91af",
   "metadata": {},
   "source": [
    "## VERİLERİN TRAİN VE TEST OLARAK AYRILMASI"
   ]
  },
  {
   "cell_type": "code",
   "execution_count": 24,
   "id": "be279ccb",
   "metadata": {},
   "outputs": [],
   "source": [
    "X = df.drop(\"Classs\",axis=1)\n",
    "y = df[\"Classs\"]"
   ]
  },
  {
   "cell_type": "code",
   "execution_count": 25,
   "id": "4d32b887",
   "metadata": {},
   "outputs": [],
   "source": [
    "X_train,X_test,y_train,y_test = train_test_split(X,y,test_size=0.2,random_state=17,stratify=y)"
   ]
  },
  {
   "cell_type": "markdown",
   "id": "863c12be",
   "metadata": {},
   "source": [
    "## ENCODİNG AŞAMASI"
   ]
  },
  {
   "cell_type": "code",
   "execution_count": 26,
   "id": "60f38b52",
   "metadata": {},
   "outputs": [],
   "source": [
    "oe =OrdinalEncoder()\n",
    "def Ordinal_encoder(dataframe, categorical_cols):\n",
    "    encoder = OrdinalEncoder()\n",
    "    X_train[categorical_cols] = encoder.fit_transform(X_train[categorical_cols])\n",
    "    X_test[categorical_cols] = encoder.transform(X_test[categorical_cols])\n",
    "    \n",
    "    return X_train[categorical_cols],X_test[categorical_cols]"
   ]
  },
  {
   "cell_type": "code",
   "execution_count": 27,
   "id": "d7941eb0",
   "metadata": {},
   "outputs": [],
   "source": [
    "X_train[X.columns],X_test[X.columns]=Ordinal_encoder(df,X.columns)"
   ]
  },
  {
   "cell_type": "code",
   "execution_count": 28,
   "id": "e5306348",
   "metadata": {},
   "outputs": [
    {
     "data": {
      "text/html": [
       "<div>\n",
       "<style scoped>\n",
       "    .dataframe tbody tr th:only-of-type {\n",
       "        vertical-align: middle;\n",
       "    }\n",
       "\n",
       "    .dataframe tbody tr th {\n",
       "        vertical-align: top;\n",
       "    }\n",
       "\n",
       "    .dataframe thead th {\n",
       "        text-align: right;\n",
       "    }\n",
       "</style>\n",
       "<table border=\"1\" class=\"dataframe\">\n",
       "  <thead>\n",
       "    <tr style=\"text-align: right;\">\n",
       "      <th></th>\n",
       "      <th>buying</th>\n",
       "      <th>maint</th>\n",
       "      <th>doors</th>\n",
       "      <th>persons</th>\n",
       "      <th>lug_boot</th>\n",
       "      <th>safety</th>\n",
       "    </tr>\n",
       "  </thead>\n",
       "  <tbody>\n",
       "    <tr>\n",
       "      <th>523</th>\n",
       "      <td>0.0</td>\n",
       "      <td>3.0</td>\n",
       "      <td>3.0</td>\n",
       "      <td>1.0</td>\n",
       "      <td>2.0</td>\n",
       "      <td>2.0</td>\n",
       "    </tr>\n",
       "    <tr>\n",
       "      <th>823</th>\n",
       "      <td>0.0</td>\n",
       "      <td>1.0</td>\n",
       "      <td>2.0</td>\n",
       "      <td>1.0</td>\n",
       "      <td>1.0</td>\n",
       "      <td>2.0</td>\n",
       "    </tr>\n",
       "    <tr>\n",
       "      <th>276</th>\n",
       "      <td>3.0</td>\n",
       "      <td>2.0</td>\n",
       "      <td>2.0</td>\n",
       "      <td>0.0</td>\n",
       "      <td>0.0</td>\n",
       "      <td>1.0</td>\n",
       "    </tr>\n",
       "    <tr>\n",
       "      <th>936</th>\n",
       "      <td>2.0</td>\n",
       "      <td>3.0</td>\n",
       "      <td>2.0</td>\n",
       "      <td>2.0</td>\n",
       "      <td>2.0</td>\n",
       "      <td>1.0</td>\n",
       "    </tr>\n",
       "    <tr>\n",
       "      <th>684</th>\n",
       "      <td>0.0</td>\n",
       "      <td>2.0</td>\n",
       "      <td>1.0</td>\n",
       "      <td>1.0</td>\n",
       "      <td>2.0</td>\n",
       "      <td>1.0</td>\n",
       "    </tr>\n",
       "  </tbody>\n",
       "</table>\n",
       "</div>"
      ],
      "text/plain": [
       "     buying  maint  doors  persons  lug_boot  safety\n",
       "523     0.0    3.0    3.0      1.0       2.0     2.0\n",
       "823     0.0    1.0    2.0      1.0       1.0     2.0\n",
       "276     3.0    2.0    2.0      0.0       0.0     1.0\n",
       "936     2.0    3.0    2.0      2.0       2.0     1.0\n",
       "684     0.0    2.0    1.0      1.0       2.0     1.0"
      ]
     },
     "execution_count": 28,
     "metadata": {},
     "output_type": "execute_result"
    }
   ],
   "source": [
    "X_train.head()"
   ]
  },
  {
   "cell_type": "code",
   "execution_count": 29,
   "id": "0f71ee43",
   "metadata": {},
   "outputs": [],
   "source": [
    "le = LabelEncoder()"
   ]
  },
  {
   "cell_type": "code",
   "execution_count": 30,
   "id": "b5724eab",
   "metadata": {},
   "outputs": [],
   "source": [
    "y_train=le.fit_transform(y_train)"
   ]
  },
  {
   "cell_type": "code",
   "execution_count": 31,
   "id": "e7b15e83",
   "metadata": {
    "scrolled": true
   },
   "outputs": [],
   "source": [
    "y_test=le.transform(y_test)"
   ]
  },
  {
   "cell_type": "markdown",
   "id": "4a2e8e97",
   "metadata": {},
   "source": [
    "##  MODEL TRAİNİNG ,EVULATİON"
   ]
  },
  {
   "cell_type": "code",
   "execution_count": 32,
   "id": "ed57f460",
   "metadata": {},
   "outputs": [
    {
     "data": {
      "image/png": "[encoded data removed]",
      "text/plain": [
       "<Figure size 576x1080 with 8 Axes>"
      ]
     },
     "metadata": {
      "needs_background": "light"
     },
     "output_type": "display_data"
    },
    {
     "data": {
      "text/html": [
       "<div>\n",
       "<style scoped>\n",
       "    .dataframe tbody tr th:only-of-type {\n",
       "        vertical-align: middle;\n",
       "    }\n",
       "\n",
       "    .dataframe tbody tr th {\n",
       "        vertical-align: top;\n",
       "    }\n",
       "\n",
       "    .dataframe thead th {\n",
       "        text-align: right;\n",
       "    }\n",
       "</style>\n",
       "<table border=\"1\" class=\"dataframe\">\n",
       "  <thead>\n",
       "    <tr style=\"text-align: right;\">\n",
       "      <th></th>\n",
       "      <th>Accuracy</th>\n",
       "      <th>Precision</th>\n",
       "      <th>Recall</th>\n",
       "      <th>F1 Score</th>\n",
       "    </tr>\n",
       "  </thead>\n",
       "  <tbody>\n",
       "    <tr>\n",
       "      <th>CatBoost</th>\n",
       "      <td>0.988338</td>\n",
       "      <td>0.988562</td>\n",
       "      <td>0.988338</td>\n",
       "      <td>0.988402</td>\n",
       "    </tr>\n",
       "    <tr>\n",
       "      <th>LightGBM</th>\n",
       "      <td>0.982507</td>\n",
       "      <td>0.983487</td>\n",
       "      <td>0.982507</td>\n",
       "      <td>0.982672</td>\n",
       "    </tr>\n",
       "    <tr>\n",
       "      <th>XGBClassifier</th>\n",
       "      <td>0.982507</td>\n",
       "      <td>0.983487</td>\n",
       "      <td>0.982507</td>\n",
       "      <td>0.982672</td>\n",
       "    </tr>\n",
       "    <tr>\n",
       "      <th>GradientBoosting</th>\n",
       "      <td>0.979592</td>\n",
       "      <td>0.980994</td>\n",
       "      <td>0.979592</td>\n",
       "      <td>0.979923</td>\n",
       "    </tr>\n",
       "    <tr>\n",
       "      <th>DecisionTree</th>\n",
       "      <td>0.970845</td>\n",
       "      <td>0.971943</td>\n",
       "      <td>0.970845</td>\n",
       "      <td>0.971165</td>\n",
       "    </tr>\n",
       "    <tr>\n",
       "      <th>RandomForest</th>\n",
       "      <td>0.970845</td>\n",
       "      <td>0.970651</td>\n",
       "      <td>0.970845</td>\n",
       "      <td>0.970700</td>\n",
       "    </tr>\n",
       "    <tr>\n",
       "      <th>LogisticRegression</th>\n",
       "      <td>0.653061</td>\n",
       "      <td>0.560520</td>\n",
       "      <td>0.653061</td>\n",
       "      <td>0.598873</td>\n",
       "    </tr>\n",
       "  </tbody>\n",
       "</table>\n",
       "</div>"
      ],
      "text/plain": [
       "                    Accuracy  Precision    Recall  F1 Score\n",
       "CatBoost            0.988338   0.988562  0.988338  0.988402\n",
       "LightGBM            0.982507   0.983487  0.982507  0.982672\n",
       "XGBClassifier       0.982507   0.983487  0.982507  0.982672\n",
       "GradientBoosting    0.979592   0.980994  0.979592  0.979923\n",
       "DecisionTree        0.970845   0.971943  0.970845  0.971165\n",
       "RandomForest        0.970845   0.970651  0.970845  0.970700\n",
       "LogisticRegression  0.653061   0.560520  0.653061  0.598873"
      ]
     },
     "execution_count": 32,
     "metadata": {},
     "output_type": "execute_result"
    }
   ],
   "source": [
    "def plot_confusion_matrix(y_true, y_pred, model_name, ax):\n",
    "    cm = confusion_matrix(y_true, y_pred)\n",
    "    sns.heatmap(cm, annot=True, fmt='d', cmap='Blues', cbar=False, ax=ax)\n",
    "    ax.set_xlabel('Predicted')\n",
    "    ax.set_ylabel('True')\n",
    "    ax.set_title(f'Confusion Matrix - {model_name}')\n",
    "\n",
    "def model(df, test_size=0.2, random_state=42):\n",
    "    \n",
    "    models = {\n",
    "        'LogisticRegression': LogisticRegression(max_iter=5000, solver='saga',),\n",
    "        'DecisionTree': DecisionTreeClassifier(),\n",
    "        'RandomForest': RandomForestClassifier(),\n",
    "        'CatBoost': CatBoostClassifier(verbose=False),\n",
    "        'LightGBM': lgb.LGBMClassifier(verbose=-1),\n",
    "        'GradientBoosting': GradientBoostingClassifier(),\n",
    "        \"XGBClassifier\":XGBClassifier()\n",
    "    }\n",
    "\n",
    "    results = {}\n",
    "    \n",
    "    fig, axes = plt.subplots(nrows=4, ncols=2, figsize=(8, 15))\n",
    "    axes = axes.flatten()\n",
    "    results = {}\n",
    "\n",
    "    for i, (model_name, model) in enumerate(models.items()):\n",
    "        model.fit(X_train, y_train)\n",
    "        y_pred = model.predict(X_test)\n",
    "\n",
    "        accuracy = accuracy_score(y_test, y_pred)\n",
    "        precision = precision_score(y_test, y_pred, average='weighted')\n",
    "        recall = recall_score(y_test, y_pred, average='weighted')\n",
    "        f1 = f1_score(y_test, y_pred, average='weighted')\n",
    "\n",
    "        results[model_name] = {\n",
    "            'Accuracy': accuracy,\n",
    "            'Precision': precision,\n",
    "            'Recall': recall,\n",
    "            'F1 Score': f1\n",
    "        }\n",
    "\n",
    "        plot_confusion_matrix(y_test, y_pred, model_name, axes[i])\n",
    "\n",
    "    plt.tight_layout()\n",
    "    plt.show()\n",
    "    \n",
    "    return results\n",
    "\n",
    "def model_to_dataframe(df, test_size=0.2, random_state=42):\n",
    "    results = model(df, test_size, random_state)\n",
    "    result_df = pd.DataFrame(results).T\n",
    "    result_df = result_df.sort_values(by='Accuracy', ascending=False)\n",
    "    return result_df\n",
    "\n",
    "model_to_dataframe(df)"
   ]
  },
  {
   "cell_type": "markdown",
   "id": "3a32b42e",
   "metadata": {},
   "source": [
    "## HYPERPARAMETER TUNING"
   ]
  },
  {
   "cell_type": "code",
   "execution_count": 33,
   "id": "37fc545f",
   "metadata": {},
   "outputs": [],
   "source": [
    "#LOGİSTİC REGRESSİON"
   ]
  },
  {
   "cell_type": "code",
   "execution_count": 34,
   "id": "289adffc",
   "metadata": {},
   "outputs": [],
   "source": [
    "log_model = LogisticRegression()"
   ]
  },
  {
   "cell_type": "code",
   "execution_count": 35,
   "id": "19097272",
   "metadata": {},
   "outputs": [],
   "source": [
    "params = {\"penalty\":[\"l1\",\"l2\",\"elasticnet\"],\n",
    "         \"solver\":[\"saga\",\"liblinear\",\"sag\"],\n",
    "         \"C\":np.arange(1,12)}"
   ]
  },
  {
   "cell_type": "code",
   "execution_count": 36,
   "id": "c9ca5661",
   "metadata": {},
   "outputs": [
    {
     "data": {
      "text/plain": [
       "GridSearchCV(cv=10, estimator=LogisticRegression(), n_jobs=-1,\n",
       "             param_grid={'C': array([ 1,  2,  3,  4,  5,  6,  7,  8,  9, 10, 11]),\n",
       "                         'penalty': ['l1', 'l2', 'elasticnet'],\n",
       "                         'solver': ['saga', 'liblinear', 'sag']})"
      ]
     },
     "execution_count": 36,
     "metadata": {},
     "output_type": "execute_result"
    }
   ],
   "source": [
    "log_cv_model = GridSearchCV(log_model,params,cv=10,n_jobs=-1)\n",
    "log_cv_model.fit(X_train,y_train)"
   ]
  },
  {
   "cell_type": "code",
   "execution_count": 37,
   "id": "0c39a11b",
   "metadata": {},
   "outputs": [
    {
     "data": {
      "text/plain": [
       "{'C': 1, 'penalty': 'l2', 'solver': 'liblinear'}"
      ]
     },
     "execution_count": 37,
     "metadata": {},
     "output_type": "execute_result"
    }
   ],
   "source": [
    "log_cv_model.best_params_"
   ]
  },
  {
   "cell_type": "code",
   "execution_count": 38,
   "id": "b6ad4a78",
   "metadata": {},
   "outputs": [],
   "source": [
    "log_best = log_model.set_params(**log_cv_model.best_params_).fit(X_train,y_train)"
   ]
  },
  {
   "cell_type": "code",
   "execution_count": 39,
   "id": "6781240c",
   "metadata": {},
   "outputs": [],
   "source": [
    "y_pred = log_best.predict(X_test)"
   ]
  },
  {
   "cell_type": "code",
   "execution_count": 40,
   "id": "4361b0b7",
   "metadata": {},
   "outputs": [
    {
     "data": {
      "text/plain": [
       "0.6647230320699709"
      ]
     },
     "execution_count": 40,
     "metadata": {},
     "output_type": "execute_result"
    }
   ],
   "source": [
    "accuracy_score(y_test,y_pred)"
   ]
  },
  {
   "cell_type": "code",
   "execution_count": 41,
   "id": "a485fb29",
   "metadata": {},
   "outputs": [],
   "source": [
    "#RANDOM FOREST"
   ]
  },
  {
   "cell_type": "code",
   "execution_count": 42,
   "id": "b30b7ede",
   "metadata": {},
   "outputs": [],
   "source": [
    "rf_model = RandomForestClassifier()"
   ]
  },
  {
   "cell_type": "code",
   "execution_count": 43,
   "id": "61139147",
   "metadata": {},
   "outputs": [],
   "source": [
    "params = {\"n_estimators\":[100,200,300,500,1000],\n",
    "         \"criterion\":[\"gini\",\"entropy\"],\n",
    "         \"max_depth\":[2,3,5,7,9,11],\n",
    "         \"min_samples_split\":[2,5,7,10]\n",
    "         }"
   ]
  },
  {
   "cell_type": "code",
   "execution_count": 44,
   "id": "ac1ab97f",
   "metadata": {},
   "outputs": [
    {
     "data": {
      "text/plain": [
       "GridSearchCV(cv=10, estimator=RandomForestClassifier(), n_jobs=-1,\n",
       "             param_grid={'criterion': ['gini', 'entropy'],\n",
       "                         'max_depth': [2, 3, 5, 7, 9, 11],\n",
       "                         'min_samples_split': [2, 5, 7, 10],\n",
       "                         'n_estimators': [100, 200, 300, 500, 1000]})"
      ]
     },
     "execution_count": 44,
     "metadata": {},
     "output_type": "execute_result"
    }
   ],
   "source": [
    "rf_cv_model = GridSearchCV(rf_model,params,cv=10,n_jobs=-1)\n",
    "rf_cv_model.fit(X_train,y_train)"
   ]
  },
  {
   "cell_type": "code",
   "execution_count": 45,
   "id": "e8907f29",
   "metadata": {},
   "outputs": [],
   "source": [
    "rf_best = rf_model.set_params(**rf_cv_model.best_params_).fit(X_train,y_train)"
   ]
  },
  {
   "cell_type": "code",
   "execution_count": 46,
   "id": "d0428ef1",
   "metadata": {},
   "outputs": [],
   "source": [
    "y_pred = rf_best.predict(X_test)"
   ]
  },
  {
   "cell_type": "code",
   "execution_count": 47,
   "id": "6b0bb20c",
   "metadata": {},
   "outputs": [
    {
     "data": {
      "text/plain": [
       "0.9795918367346939"
      ]
     },
     "execution_count": 47,
     "metadata": {},
     "output_type": "execute_result"
    }
   ],
   "source": [
    "accuracy_score(y_test,y_pred)"
   ]
  },
  {
   "cell_type": "code",
   "execution_count": 48,
   "id": "b9f73c8a",
   "metadata": {},
   "outputs": [
    {
     "name": "stdout",
     "output_type": "stream",
     "text": [
      "              precision    recall  f1-score   support\n",
      "\n",
      "           0       0.99      0.92      0.95        76\n",
      "           1       0.87      0.93      0.90        14\n",
      "           2       0.98      1.00      0.99       240\n",
      "           3       1.00      1.00      1.00        13\n",
      "\n",
      "    accuracy                           0.98       343\n",
      "   macro avg       0.96      0.96      0.96       343\n",
      "weighted avg       0.98      0.98      0.98       343\n",
      "\n"
     ]
    }
   ],
   "source": [
    "print(classification_report(y_test,y_pred))"
   ]
  },
  {
   "cell_type": "code",
   "execution_count": 49,
   "id": "f951f59b",
   "metadata": {},
   "outputs": [],
   "source": [
    "#CAT BOOST"
   ]
  },
  {
   "cell_type": "code",
   "execution_count": 50,
   "id": "e9389be0",
   "metadata": {},
   "outputs": [],
   "source": [
    "cb_model = CatBoostClassifier()"
   ]
  },
  {
   "cell_type": "code",
   "execution_count": 51,
   "id": "9185bd61",
   "metadata": {},
   "outputs": [],
   "source": [
    "params = {\n",
    "        'iterations': [100, 200, 300, 500],\n",
    "        'learning_rate': [0.01,0.05, 0.1],\n",
    "        'depth': [4, 6, 8, 10],\n",
    "        'l2_leaf_reg': [1, 3, 5, 7, 9]\n",
    "    }"
   ]
  },
  {
   "cell_type": "code",
   "execution_count": 52,
   "id": "c3a41c03",
   "metadata": {},
   "outputs": [
    {
     "name": "stdout",
     "output_type": "stream",
     "text": [
      "0:\tlearn: 1.2055458\ttotal: 1.53ms\tremaining: 764ms\n",
      "1:\tlearn: 1.0940854\ttotal: 3.15ms\tremaining: 785ms\n",
      "2:\tlearn: 0.9962843\ttotal: 5.12ms\tremaining: 847ms\n",
      "3:\tlearn: 0.9341667\ttotal: 6.78ms\tremaining: 840ms\n",
      "4:\tlearn: 0.8669234\ttotal: 8.25ms\tremaining: 817ms\n",
      "5:\tlearn: 0.8078581\ttotal: 9.77ms\tremaining: 805ms\n",
      "6:\tlearn: 0.7612249\ttotal: 11.2ms\tremaining: 790ms\n",
      "7:\tlearn: 0.7197882\ttotal: 12.7ms\tremaining: 782ms\n",
      "8:\tlearn: 0.6823066\ttotal: 14.3ms\tremaining: 780ms\n",
      "9:\tlearn: 0.6541594\ttotal: 15.8ms\tremaining: 774ms\n",
      "10:\tlearn: 0.6259311\ttotal: 17.2ms\tremaining: 766ms\n",
      "11:\tlearn: 0.6025823\ttotal: 18.7ms\tremaining: 759ms\n",
      "12:\tlearn: 0.5822324\ttotal: 20.2ms\tremaining: 758ms\n",
      "13:\tlearn: 0.5585098\ttotal: 21.8ms\tremaining: 756ms\n",
      "14:\tlearn: 0.5423305\ttotal: 23.3ms\tremaining: 752ms\n",
      "15:\tlearn: 0.5213900\ttotal: 24.8ms\tremaining: 750ms\n",
      "16:\tlearn: 0.5055117\ttotal: 26.4ms\tremaining: 749ms\n",
      "17:\tlearn: 0.4930637\ttotal: 27.9ms\tremaining: 747ms\n",
      "18:\tlearn: 0.4787137\ttotal: 29.3ms\tremaining: 743ms\n",
      "19:\tlearn: 0.4674841\ttotal: 30.8ms\tremaining: 739ms\n",
      "20:\tlearn: 0.4531343\ttotal: 32.2ms\tremaining: 736ms\n",
      "21:\tlearn: 0.4419679\ttotal: 33.8ms\tremaining: 735ms\n",
      "22:\tlearn: 0.4292873\ttotal: 35.3ms\tremaining: 733ms\n",
      "23:\tlearn: 0.4151520\ttotal: 36.7ms\tremaining: 729ms\n",
      "24:\tlearn: 0.4044910\ttotal: 38.2ms\tremaining: 726ms\n",
      "25:\tlearn: 0.3937052\ttotal: 40ms\tremaining: 729ms\n",
      "26:\tlearn: 0.3828779\ttotal: 41.6ms\tremaining: 728ms\n",
      "27:\tlearn: 0.3733754\ttotal: 43.1ms\tremaining: 726ms\n",
      "28:\tlearn: 0.3652038\ttotal: 44.5ms\tremaining: 723ms\n",
      "29:\tlearn: 0.3576113\ttotal: 46ms\tremaining: 721ms\n",
      "30:\tlearn: 0.3497645\ttotal: 47.6ms\tremaining: 721ms\n",
      "31:\tlearn: 0.3422861\ttotal: 49.2ms\tremaining: 720ms\n",
      "32:\tlearn: 0.3374746\ttotal: 50.8ms\tremaining: 718ms\n",
      "33:\tlearn: 0.3340480\ttotal: 52.2ms\tremaining: 716ms\n",
      "34:\tlearn: 0.3274546\ttotal: 53.8ms\tremaining: 715ms\n",
      "35:\tlearn: 0.3191175\ttotal: 55.3ms\tremaining: 712ms\n",
      "36:\tlearn: 0.3122250\ttotal: 56.7ms\tremaining: 710ms\n",
      "37:\tlearn: 0.3075409\ttotal: 58.2ms\tremaining: 708ms\n",
      "38:\tlearn: 0.3010186\ttotal: 59.8ms\tremaining: 706ms\n",
      "39:\tlearn: 0.2933287\ttotal: 61.4ms\tremaining: 707ms\n",
      "40:\tlearn: 0.2892303\ttotal: 63ms\tremaining: 706ms\n",
      "41:\tlearn: 0.2813695\ttotal: 64.5ms\tremaining: 704ms\n",
      "42:\tlearn: 0.2765014\ttotal: 66.2ms\tremaining: 704ms\n",
      "43:\tlearn: 0.2725135\ttotal: 67.9ms\tremaining: 703ms\n",
      "44:\tlearn: 0.2689127\ttotal: 69.3ms\tremaining: 701ms\n",
      "45:\tlearn: 0.2632204\ttotal: 70.9ms\tremaining: 700ms\n",
      "46:\tlearn: 0.2594459\ttotal: 72.5ms\tremaining: 699ms\n",
      "47:\tlearn: 0.2563345\ttotal: 74.1ms\tremaining: 697ms\n",
      "48:\tlearn: 0.2520160\ttotal: 75.3ms\tremaining: 693ms\n",
      "49:\tlearn: 0.2478475\ttotal: 76.7ms\tremaining: 690ms\n",
      "50:\tlearn: 0.2419305\ttotal: 78.1ms\tremaining: 688ms\n",
      "51:\tlearn: 0.2382731\ttotal: 79.6ms\tremaining: 686ms\n",
      "52:\tlearn: 0.2357128\ttotal: 81ms\tremaining: 684ms\n",
      "53:\tlearn: 0.2331440\ttotal: 82.6ms\tremaining: 682ms\n",
      "54:\tlearn: 0.2294188\ttotal: 83.9ms\tremaining: 679ms\n",
      "55:\tlearn: 0.2251294\ttotal: 85.3ms\tremaining: 676ms\n",
      "56:\tlearn: 0.2218537\ttotal: 86.8ms\tremaining: 675ms\n",
      "57:\tlearn: 0.2174329\ttotal: 88.2ms\tremaining: 672ms\n",
      "58:\tlearn: 0.2147853\ttotal: 89.8ms\tremaining: 671ms\n",
      "59:\tlearn: 0.2116007\ttotal: 91.4ms\tremaining: 670ms\n",
      "60:\tlearn: 0.2077337\ttotal: 92.8ms\tremaining: 668ms\n",
      "61:\tlearn: 0.2049166\ttotal: 94.5ms\tremaining: 668ms\n",
      "62:\tlearn: 0.2026762\ttotal: 96.1ms\tremaining: 666ms\n",
      "63:\tlearn: 0.2004851\ttotal: 97.5ms\tremaining: 664ms\n",
      "64:\tlearn: 0.1990595\ttotal: 99ms\tremaining: 662ms\n",
      "65:\tlearn: 0.1962795\ttotal: 100ms\tremaining: 660ms\n",
      "66:\tlearn: 0.1922209\ttotal: 102ms\tremaining: 659ms\n",
      "67:\tlearn: 0.1895961\ttotal: 103ms\tremaining: 657ms\n",
      "68:\tlearn: 0.1875288\ttotal: 105ms\tremaining: 655ms\n",
      "69:\tlearn: 0.1856899\ttotal: 106ms\tremaining: 652ms\n",
      "70:\tlearn: 0.1829497\ttotal: 108ms\tremaining: 651ms\n",
      "71:\tlearn: 0.1812740\ttotal: 109ms\tremaining: 650ms\n",
      "72:\tlearn: 0.1795415\ttotal: 111ms\tremaining: 649ms\n",
      "73:\tlearn: 0.1772056\ttotal: 113ms\tremaining: 649ms\n",
      "74:\tlearn: 0.1752005\ttotal: 115ms\tremaining: 650ms\n",
      "75:\tlearn: 0.1736682\ttotal: 116ms\tremaining: 648ms\n",
      "76:\tlearn: 0.1715837\ttotal: 118ms\tremaining: 646ms\n",
      "77:\tlearn: 0.1693427\ttotal: 119ms\tremaining: 644ms\n",
      "78:\tlearn: 0.1676537\ttotal: 120ms\tremaining: 642ms\n",
      "79:\tlearn: 0.1658495\ttotal: 122ms\tremaining: 641ms\n",
      "80:\tlearn: 0.1643403\ttotal: 124ms\tremaining: 639ms\n",
      "81:\tlearn: 0.1619292\ttotal: 125ms\tremaining: 637ms\n",
      "82:\tlearn: 0.1595734\ttotal: 127ms\tremaining: 636ms\n",
      "83:\tlearn: 0.1581830\ttotal: 128ms\tremaining: 635ms\n",
      "84:\tlearn: 0.1565272\ttotal: 130ms\tremaining: 633ms\n",
      "85:\tlearn: 0.1548047\ttotal: 131ms\tremaining: 631ms\n",
      "86:\tlearn: 0.1521859\ttotal: 133ms\tremaining: 630ms\n",
      "87:\tlearn: 0.1505435\ttotal: 134ms\tremaining: 629ms\n",
      "88:\tlearn: 0.1489764\ttotal: 136ms\tremaining: 629ms\n",
      "89:\tlearn: 0.1472805\ttotal: 138ms\tremaining: 628ms\n",
      "90:\tlearn: 0.1458569\ttotal: 139ms\tremaining: 626ms\n",
      "91:\tlearn: 0.1442623\ttotal: 141ms\tremaining: 624ms\n",
      "92:\tlearn: 0.1417603\ttotal: 142ms\tremaining: 623ms\n",
      "93:\tlearn: 0.1406004\ttotal: 144ms\tremaining: 621ms\n",
      "94:\tlearn: 0.1389754\ttotal: 145ms\tremaining: 620ms\n",
      "95:\tlearn: 0.1377585\ttotal: 147ms\tremaining: 618ms\n",
      "96:\tlearn: 0.1366400\ttotal: 148ms\tremaining: 616ms\n",
      "97:\tlearn: 0.1359541\ttotal: 150ms\tremaining: 615ms\n",
      "98:\tlearn: 0.1343149\ttotal: 151ms\tremaining: 613ms\n",
      "99:\tlearn: 0.1326739\ttotal: 153ms\tremaining: 612ms\n",
      "100:\tlearn: 0.1315581\ttotal: 155ms\tremaining: 612ms\n",
      "101:\tlearn: 0.1305604\ttotal: 157ms\tremaining: 611ms\n",
      "102:\tlearn: 0.1290263\ttotal: 158ms\tremaining: 610ms\n",
      "103:\tlearn: 0.1275712\ttotal: 160ms\tremaining: 609ms\n",
      "104:\tlearn: 0.1257882\ttotal: 161ms\tremaining: 607ms\n",
      "105:\tlearn: 0.1249104\ttotal: 164ms\tremaining: 608ms\n",
      "106:\tlearn: 0.1233922\ttotal: 165ms\tremaining: 606ms\n",
      "107:\tlearn: 0.1221969\ttotal: 166ms\tremaining: 604ms\n",
      "108:\tlearn: 0.1210696\ttotal: 168ms\tremaining: 603ms\n",
      "109:\tlearn: 0.1199376\ttotal: 170ms\tremaining: 604ms\n",
      "110:\tlearn: 0.1189349\ttotal: 172ms\tremaining: 603ms\n",
      "111:\tlearn: 0.1173985\ttotal: 174ms\tremaining: 601ms\n",
      "112:\tlearn: 0.1166251\ttotal: 175ms\tremaining: 600ms\n",
      "113:\tlearn: 0.1156569\ttotal: 177ms\tremaining: 599ms\n",
      "114:\tlearn: 0.1145558\ttotal: 179ms\tremaining: 598ms\n",
      "115:\tlearn: 0.1134424\ttotal: 180ms\tremaining: 597ms\n",
      "116:\tlearn: 0.1122224\ttotal: 182ms\tremaining: 596ms\n",
      "117:\tlearn: 0.1114470\ttotal: 184ms\tremaining: 596ms\n",
      "118:\tlearn: 0.1100122\ttotal: 186ms\tremaining: 594ms\n",
      "119:\tlearn: 0.1088754\ttotal: 187ms\tremaining: 593ms\n",
      "120:\tlearn: 0.1079553\ttotal: 189ms\tremaining: 591ms\n",
      "121:\tlearn: 0.1069030\ttotal: 190ms\tremaining: 589ms\n",
      "122:\tlearn: 0.1062255\ttotal: 192ms\tremaining: 588ms\n",
      "123:\tlearn: 0.1053267\ttotal: 193ms\tremaining: 587ms\n",
      "124:\tlearn: 0.1042462\ttotal: 195ms\tremaining: 585ms\n",
      "125:\tlearn: 0.1033619\ttotal: 197ms\tremaining: 586ms\n",
      "126:\tlearn: 0.1026412\ttotal: 199ms\tremaining: 584ms\n",
      "127:\tlearn: 0.1020333\ttotal: 201ms\tremaining: 584ms\n",
      "128:\tlearn: 0.1009849\ttotal: 203ms\tremaining: 583ms\n",
      "129:\tlearn: 0.1000030\ttotal: 204ms\tremaining: 582ms\n",
      "130:\tlearn: 0.0989486\ttotal: 206ms\tremaining: 581ms\n",
      "131:\tlearn: 0.0980680\ttotal: 208ms\tremaining: 581ms\n",
      "132:\tlearn: 0.0973698\ttotal: 210ms\tremaining: 579ms\n",
      "133:\tlearn: 0.0965525\ttotal: 212ms\tremaining: 579ms\n",
      "134:\tlearn: 0.0956302\ttotal: 214ms\tremaining: 579ms\n",
      "135:\tlearn: 0.0949264\ttotal: 216ms\tremaining: 578ms\n",
      "136:\tlearn: 0.0945045\ttotal: 217ms\tremaining: 576ms\n",
      "137:\tlearn: 0.0939500\ttotal: 219ms\tremaining: 576ms\n",
      "138:\tlearn: 0.0929583\ttotal: 221ms\tremaining: 574ms\n",
      "139:\tlearn: 0.0924724\ttotal: 223ms\tremaining: 575ms\n",
      "140:\tlearn: 0.0919064\ttotal: 225ms\tremaining: 574ms\n",
      "141:\tlearn: 0.0911758\ttotal: 228ms\tremaining: 574ms\n",
      "142:\tlearn: 0.0902634\ttotal: 230ms\tremaining: 575ms\n",
      "143:\tlearn: 0.0894933\ttotal: 232ms\tremaining: 574ms\n",
      "144:\tlearn: 0.0892308\ttotal: 234ms\tremaining: 572ms\n",
      "145:\tlearn: 0.0886151\ttotal: 237ms\tremaining: 574ms\n",
      "146:\tlearn: 0.0879498\ttotal: 241ms\tremaining: 579ms\n",
      "147:\tlearn: 0.0871248\ttotal: 243ms\tremaining: 577ms\n",
      "148:\tlearn: 0.0867098\ttotal: 244ms\tremaining: 576ms\n",
      "149:\tlearn: 0.0861304\ttotal: 249ms\tremaining: 580ms\n",
      "150:\tlearn: 0.0853558\ttotal: 250ms\tremaining: 578ms\n",
      "151:\tlearn: 0.0846755\ttotal: 252ms\tremaining: 576ms\n",
      "152:\tlearn: 0.0842420\ttotal: 253ms\tremaining: 575ms\n",
      "153:\tlearn: 0.0836384\ttotal: 255ms\tremaining: 573ms\n",
      "154:\tlearn: 0.0831621\ttotal: 257ms\tremaining: 572ms\n",
      "155:\tlearn: 0.0825048\ttotal: 259ms\tremaining: 571ms\n",
      "156:\tlearn: 0.0818406\ttotal: 261ms\tremaining: 570ms\n",
      "157:\tlearn: 0.0810212\ttotal: 263ms\tremaining: 569ms\n",
      "158:\tlearn: 0.0801284\ttotal: 265ms\tremaining: 567ms\n",
      "159:\tlearn: 0.0793176\ttotal: 266ms\tremaining: 565ms\n",
      "160:\tlearn: 0.0787846\ttotal: 267ms\tremaining: 563ms\n",
      "161:\tlearn: 0.0779590\ttotal: 270ms\tremaining: 563ms\n",
      "162:\tlearn: 0.0774537\ttotal: 272ms\tremaining: 562ms\n",
      "163:\tlearn: 0.0770731\ttotal: 273ms\tremaining: 560ms\n",
      "164:\tlearn: 0.0762861\ttotal: 276ms\tremaining: 560ms\n",
      "165:\tlearn: 0.0758617\ttotal: 278ms\tremaining: 560ms\n",
      "166:\tlearn: 0.0751352\ttotal: 280ms\tremaining: 559ms\n",
      "167:\tlearn: 0.0745092\ttotal: 282ms\tremaining: 557ms\n",
      "168:\tlearn: 0.0738192\ttotal: 284ms\tremaining: 555ms\n",
      "169:\tlearn: 0.0734920\ttotal: 287ms\tremaining: 557ms\n",
      "170:\tlearn: 0.0730377\ttotal: 288ms\tremaining: 555ms\n",
      "171:\tlearn: 0.0726447\ttotal: 290ms\tremaining: 553ms\n",
      "172:\tlearn: 0.0719685\ttotal: 292ms\tremaining: 551ms\n",
      "173:\tlearn: 0.0714959\ttotal: 293ms\tremaining: 550ms\n",
      "174:\tlearn: 0.0708870\ttotal: 296ms\tremaining: 549ms\n",
      "175:\tlearn: 0.0703829\ttotal: 298ms\tremaining: 549ms\n",
      "176:\tlearn: 0.0697195\ttotal: 299ms\tremaining: 546ms\n",
      "177:\tlearn: 0.0691509\ttotal: 301ms\tremaining: 544ms\n",
      "178:\tlearn: 0.0686582\ttotal: 303ms\tremaining: 543ms\n",
      "179:\tlearn: 0.0682462\ttotal: 304ms\tremaining: 541ms\n",
      "180:\tlearn: 0.0678829\ttotal: 306ms\tremaining: 539ms\n",
      "181:\tlearn: 0.0669822\ttotal: 307ms\tremaining: 537ms\n",
      "182:\tlearn: 0.0665921\ttotal: 309ms\tremaining: 535ms\n",
      "183:\tlearn: 0.0660460\ttotal: 316ms\tremaining: 543ms\n",
      "184:\tlearn: 0.0655980\ttotal: 318ms\tremaining: 542ms\n",
      "185:\tlearn: 0.0651320\ttotal: 320ms\tremaining: 540ms\n",
      "186:\tlearn: 0.0647273\ttotal: 321ms\tremaining: 538ms\n",
      "187:\tlearn: 0.0642762\ttotal: 323ms\tremaining: 536ms\n",
      "188:\tlearn: 0.0637749\ttotal: 325ms\tremaining: 534ms\n",
      "189:\tlearn: 0.0631939\ttotal: 326ms\tremaining: 532ms\n",
      "190:\tlearn: 0.0626421\ttotal: 328ms\tremaining: 531ms\n",
      "191:\tlearn: 0.0622467\ttotal: 330ms\tremaining: 529ms\n",
      "192:\tlearn: 0.0620215\ttotal: 331ms\tremaining: 527ms\n",
      "193:\tlearn: 0.0617548\ttotal: 333ms\tremaining: 525ms\n",
      "194:\tlearn: 0.0614494\ttotal: 334ms\tremaining: 523ms\n",
      "195:\tlearn: 0.0610196\ttotal: 336ms\tremaining: 522ms\n",
      "196:\tlearn: 0.0605890\ttotal: 338ms\tremaining: 519ms\n",
      "197:\tlearn: 0.0603598\ttotal: 339ms\tremaining: 517ms\n",
      "198:\tlearn: 0.0598759\ttotal: 342ms\tremaining: 517ms\n",
      "199:\tlearn: 0.0595366\ttotal: 348ms\tremaining: 523ms\n",
      "200:\tlearn: 0.0591448\ttotal: 350ms\tremaining: 521ms\n",
      "201:\tlearn: 0.0588650\ttotal: 355ms\tremaining: 524ms\n",
      "202:\tlearn: 0.0585229\ttotal: 357ms\tremaining: 522ms\n",
      "203:\tlearn: 0.0581011\ttotal: 359ms\tremaining: 520ms\n",
      "204:\tlearn: 0.0577179\ttotal: 360ms\tremaining: 518ms\n",
      "205:\tlearn: 0.0573730\ttotal: 362ms\tremaining: 516ms\n",
      "206:\tlearn: 0.0569875\ttotal: 364ms\tremaining: 515ms\n",
      "207:\tlearn: 0.0567775\ttotal: 366ms\tremaining: 514ms\n",
      "208:\tlearn: 0.0565430\ttotal: 368ms\tremaining: 513ms\n",
      "209:\tlearn: 0.0562029\ttotal: 371ms\tremaining: 513ms\n",
      "210:\tlearn: 0.0558906\ttotal: 373ms\tremaining: 511ms\n",
      "211:\tlearn: 0.0554815\ttotal: 374ms\tremaining: 508ms\n",
      "212:\tlearn: 0.0551478\ttotal: 376ms\tremaining: 507ms\n",
      "213:\tlearn: 0.0546782\ttotal: 380ms\tremaining: 508ms\n",
      "214:\tlearn: 0.0544524\ttotal: 382ms\tremaining: 506ms\n",
      "215:\tlearn: 0.0541174\ttotal: 389ms\tremaining: 512ms\n",
      "216:\tlearn: 0.0536243\ttotal: 391ms\tremaining: 510ms\n",
      "217:\tlearn: 0.0533097\ttotal: 393ms\tremaining: 508ms\n",
      "218:\tlearn: 0.0529911\ttotal: 394ms\tremaining: 506ms\n",
      "219:\tlearn: 0.0526868\ttotal: 396ms\tremaining: 504ms\n",
      "220:\tlearn: 0.0524121\ttotal: 398ms\tremaining: 502ms\n",
      "221:\tlearn: 0.0519930\ttotal: 399ms\tremaining: 500ms\n",
      "222:\tlearn: 0.0517671\ttotal: 401ms\tremaining: 498ms\n",
      "223:\tlearn: 0.0515689\ttotal: 404ms\tremaining: 498ms\n",
      "224:\tlearn: 0.0514176\ttotal: 406ms\tremaining: 496ms\n",
      "225:\tlearn: 0.0511201\ttotal: 408ms\tremaining: 494ms\n",
      "226:\tlearn: 0.0508108\ttotal: 409ms\tremaining: 492ms\n",
      "227:\tlearn: 0.0504194\ttotal: 411ms\tremaining: 490ms\n",
      "228:\tlearn: 0.0501527\ttotal: 413ms\tremaining: 488ms\n",
      "229:\tlearn: 0.0499691\ttotal: 414ms\tremaining: 486ms\n",
      "230:\tlearn: 0.0497065\ttotal: 416ms\tremaining: 484ms\n",
      "231:\tlearn: 0.0495583\ttotal: 417ms\tremaining: 482ms\n",
      "232:\tlearn: 0.0491345\ttotal: 419ms\tremaining: 480ms\n",
      "233:\tlearn: 0.0486205\ttotal: 421ms\tremaining: 478ms\n",
      "234:\tlearn: 0.0483315\ttotal: 422ms\tremaining: 476ms\n",
      "235:\tlearn: 0.0481003\ttotal: 424ms\tremaining: 474ms\n",
      "236:\tlearn: 0.0477633\ttotal: 426ms\tremaining: 472ms\n",
      "237:\tlearn: 0.0475538\ttotal: 427ms\tremaining: 470ms\n",
      "238:\tlearn: 0.0472791\ttotal: 429ms\tremaining: 469ms\n",
      "239:\tlearn: 0.0470812\ttotal: 431ms\tremaining: 467ms\n",
      "240:\tlearn: 0.0469045\ttotal: 433ms\tremaining: 465ms\n",
      "241:\tlearn: 0.0466337\ttotal: 434ms\tremaining: 463ms\n",
      "242:\tlearn: 0.0463496\ttotal: 436ms\tremaining: 461ms\n",
      "243:\tlearn: 0.0460025\ttotal: 439ms\tremaining: 460ms\n",
      "244:\tlearn: 0.0458303\ttotal: 441ms\tremaining: 459ms\n",
      "245:\tlearn: 0.0457174\ttotal: 443ms\tremaining: 457ms\n",
      "246:\tlearn: 0.0454804\ttotal: 444ms\tremaining: 455ms\n",
      "247:\tlearn: 0.0451525\ttotal: 447ms\tremaining: 454ms\n",
      "248:\tlearn: 0.0449273\ttotal: 449ms\tremaining: 452ms\n",
      "249:\tlearn: 0.0447152\ttotal: 451ms\tremaining: 451ms\n",
      "250:\tlearn: 0.0444340\ttotal: 453ms\tremaining: 450ms\n",
      "251:\tlearn: 0.0442521\ttotal: 455ms\tremaining: 448ms\n",
      "252:\tlearn: 0.0438391\ttotal: 457ms\tremaining: 446ms\n",
      "253:\tlearn: 0.0437408\ttotal: 458ms\tremaining: 444ms\n",
      "254:\tlearn: 0.0434556\ttotal: 460ms\tremaining: 442ms\n",
      "255:\tlearn: 0.0430791\ttotal: 462ms\tremaining: 440ms\n",
      "256:\tlearn: 0.0429307\ttotal: 466ms\tremaining: 440ms\n",
      "257:\tlearn: 0.0426853\ttotal: 467ms\tremaining: 438ms\n",
      "258:\tlearn: 0.0425220\ttotal: 469ms\tremaining: 436ms\n",
      "259:\tlearn: 0.0422955\ttotal: 471ms\tremaining: 435ms\n",
      "260:\tlearn: 0.0420821\ttotal: 473ms\tremaining: 433ms\n",
      "261:\tlearn: 0.0419231\ttotal: 475ms\tremaining: 432ms\n",
      "262:\tlearn: 0.0417618\ttotal: 477ms\tremaining: 430ms\n",
      "263:\tlearn: 0.0415696\ttotal: 479ms\tremaining: 428ms\n",
      "264:\tlearn: 0.0411807\ttotal: 481ms\tremaining: 426ms\n",
      "265:\tlearn: 0.0410329\ttotal: 482ms\tremaining: 424ms\n",
      "266:\tlearn: 0.0408577\ttotal: 485ms\tremaining: 423ms\n",
      "267:\tlearn: 0.0406544\ttotal: 487ms\tremaining: 422ms\n",
      "268:\tlearn: 0.0404679\ttotal: 489ms\tremaining: 420ms\n",
      "269:\tlearn: 0.0402859\ttotal: 491ms\tremaining: 419ms\n",
      "270:\tlearn: 0.0401120\ttotal: 494ms\tremaining: 417ms\n",
      "271:\tlearn: 0.0399822\ttotal: 496ms\tremaining: 415ms\n",
      "272:\tlearn: 0.0398244\ttotal: 497ms\tremaining: 414ms\n",
      "273:\tlearn: 0.0396847\ttotal: 499ms\tremaining: 412ms\n",
      "274:\tlearn: 0.0395147\ttotal: 501ms\tremaining: 410ms\n",
      "275:\tlearn: 0.0392086\ttotal: 503ms\tremaining: 408ms\n",
      "276:\tlearn: 0.0390037\ttotal: 506ms\tremaining: 407ms\n",
      "277:\tlearn: 0.0388609\ttotal: 507ms\tremaining: 405ms\n",
      "278:\tlearn: 0.0386565\ttotal: 509ms\tremaining: 403ms\n",
      "279:\tlearn: 0.0385342\ttotal: 511ms\tremaining: 402ms\n",
      "280:\tlearn: 0.0384086\ttotal: 513ms\tremaining: 399ms\n",
      "281:\tlearn: 0.0382110\ttotal: 514ms\tremaining: 397ms\n",
      "282:\tlearn: 0.0380498\ttotal: 516ms\tremaining: 395ms\n",
      "283:\tlearn: 0.0378517\ttotal: 518ms\tremaining: 394ms\n",
      "284:\tlearn: 0.0376984\ttotal: 520ms\tremaining: 392ms\n",
      "285:\tlearn: 0.0375614\ttotal: 521ms\tremaining: 390ms\n",
      "286:\tlearn: 0.0372769\ttotal: 523ms\tremaining: 388ms\n",
      "287:\tlearn: 0.0371283\ttotal: 525ms\tremaining: 386ms\n",
      "288:\tlearn: 0.0369692\ttotal: 526ms\tremaining: 384ms\n",
      "289:\tlearn: 0.0368197\ttotal: 528ms\tremaining: 382ms\n",
      "290:\tlearn: 0.0367236\ttotal: 530ms\tremaining: 381ms\n",
      "291:\tlearn: 0.0365534\ttotal: 532ms\tremaining: 379ms\n",
      "292:\tlearn: 0.0363522\ttotal: 533ms\tremaining: 377ms\n",
      "293:\tlearn: 0.0362690\ttotal: 535ms\tremaining: 375ms\n",
      "294:\tlearn: 0.0360963\ttotal: 537ms\tremaining: 373ms\n",
      "295:\tlearn: 0.0359565\ttotal: 539ms\tremaining: 371ms\n",
      "296:\tlearn: 0.0358131\ttotal: 541ms\tremaining: 370ms\n",
      "297:\tlearn: 0.0355399\ttotal: 542ms\tremaining: 368ms\n",
      "298:\tlearn: 0.0354667\ttotal: 544ms\tremaining: 366ms\n",
      "299:\tlearn: 0.0352972\ttotal: 545ms\tremaining: 364ms\n",
      "300:\tlearn: 0.0350775\ttotal: 547ms\tremaining: 362ms\n",
      "301:\tlearn: 0.0349401\ttotal: 549ms\tremaining: 360ms\n",
      "302:\tlearn: 0.0348439\ttotal: 551ms\tremaining: 358ms\n",
      "303:\tlearn: 0.0347312\ttotal: 552ms\tremaining: 356ms\n",
      "304:\tlearn: 0.0346178\ttotal: 554ms\tremaining: 354ms\n",
      "305:\tlearn: 0.0344685\ttotal: 556ms\tremaining: 353ms\n",
      "306:\tlearn: 0.0343205\ttotal: 558ms\tremaining: 351ms\n",
      "307:\tlearn: 0.0341664\ttotal: 559ms\tremaining: 349ms\n",
      "308:\tlearn: 0.0340260\ttotal: 564ms\tremaining: 348ms\n",
      "309:\tlearn: 0.0338889\ttotal: 565ms\tremaining: 347ms\n",
      "310:\tlearn: 0.0337297\ttotal: 567ms\tremaining: 345ms\n",
      "311:\tlearn: 0.0336205\ttotal: 569ms\tremaining: 343ms\n",
      "312:\tlearn: 0.0334196\ttotal: 571ms\tremaining: 341ms\n",
      "313:\tlearn: 0.0333095\ttotal: 572ms\tremaining: 339ms\n",
      "314:\tlearn: 0.0330969\ttotal: 574ms\tremaining: 337ms\n",
      "315:\tlearn: 0.0329620\ttotal: 576ms\tremaining: 335ms\n",
      "316:\tlearn: 0.0327254\ttotal: 578ms\tremaining: 334ms\n",
      "317:\tlearn: 0.0326343\ttotal: 579ms\tremaining: 332ms\n",
      "318:\tlearn: 0.0324479\ttotal: 581ms\tremaining: 329ms\n",
      "319:\tlearn: 0.0323242\ttotal: 584ms\tremaining: 328ms\n",
      "320:\tlearn: 0.0322518\ttotal: 585ms\tremaining: 326ms\n",
      "321:\tlearn: 0.0320400\ttotal: 587ms\tremaining: 324ms\n",
      "322:\tlearn: 0.0319426\ttotal: 588ms\tremaining: 322ms\n",
      "323:\tlearn: 0.0317800\ttotal: 590ms\tremaining: 321ms\n",
      "324:\tlearn: 0.0316849\ttotal: 592ms\tremaining: 319ms\n",
      "325:\tlearn: 0.0315468\ttotal: 594ms\tremaining: 317ms\n",
      "326:\tlearn: 0.0313915\ttotal: 595ms\tremaining: 315ms\n",
      "327:\tlearn: 0.0313076\ttotal: 597ms\tremaining: 313ms\n",
      "328:\tlearn: 0.0311864\ttotal: 599ms\tremaining: 311ms\n",
      "329:\tlearn: 0.0309773\ttotal: 601ms\tremaining: 309ms\n",
      "330:\tlearn: 0.0308482\ttotal: 602ms\tremaining: 307ms\n",
      "331:\tlearn: 0.0307206\ttotal: 604ms\tremaining: 306ms\n",
      "332:\tlearn: 0.0305614\ttotal: 606ms\tremaining: 304ms\n",
      "333:\tlearn: 0.0304830\ttotal: 607ms\tremaining: 302ms\n",
      "334:\tlearn: 0.0303676\ttotal: 609ms\tremaining: 300ms\n",
      "335:\tlearn: 0.0302634\ttotal: 611ms\tremaining: 298ms\n",
      "336:\tlearn: 0.0302247\ttotal: 613ms\tremaining: 297ms\n",
      "337:\tlearn: 0.0301320\ttotal: 615ms\tremaining: 295ms\n",
      "338:\tlearn: 0.0300243\ttotal: 616ms\tremaining: 293ms\n",
      "339:\tlearn: 0.0298773\ttotal: 618ms\tremaining: 291ms\n",
      "340:\tlearn: 0.0296890\ttotal: 620ms\tremaining: 289ms\n",
      "341:\tlearn: 0.0296129\ttotal: 621ms\tremaining: 287ms\n",
      "342:\tlearn: 0.0295339\ttotal: 623ms\tremaining: 285ms\n",
      "343:\tlearn: 0.0293427\ttotal: 625ms\tremaining: 283ms\n",
      "344:\tlearn: 0.0292328\ttotal: 626ms\tremaining: 281ms\n",
      "345:\tlearn: 0.0290801\ttotal: 627ms\tremaining: 279ms\n",
      "346:\tlearn: 0.0289948\ttotal: 629ms\tremaining: 277ms\n",
      "347:\tlearn: 0.0288720\ttotal: 631ms\tremaining: 275ms\n",
      "348:\tlearn: 0.0286561\ttotal: 633ms\tremaining: 274ms\n",
      "349:\tlearn: 0.0284776\ttotal: 634ms\tremaining: 272ms\n",
      "350:\tlearn: 0.0283564\ttotal: 636ms\tremaining: 270ms\n",
      "351:\tlearn: 0.0282658\ttotal: 637ms\tremaining: 268ms\n",
      "352:\tlearn: 0.0281415\ttotal: 639ms\tremaining: 266ms\n",
      "353:\tlearn: 0.0280281\ttotal: 640ms\tremaining: 264ms\n",
      "354:\tlearn: 0.0279618\ttotal: 642ms\tremaining: 262ms\n",
      "355:\tlearn: 0.0278451\ttotal: 643ms\tremaining: 260ms\n",
      "356:\tlearn: 0.0276800\ttotal: 645ms\tremaining: 258ms\n",
      "357:\tlearn: 0.0275101\ttotal: 646ms\tremaining: 256ms\n",
      "358:\tlearn: 0.0273692\ttotal: 648ms\tremaining: 255ms\n",
      "359:\tlearn: 0.0271676\ttotal: 650ms\tremaining: 253ms\n",
      "360:\tlearn: 0.0271100\ttotal: 651ms\tremaining: 251ms\n",
      "361:\tlearn: 0.0270133\ttotal: 653ms\tremaining: 249ms\n",
      "362:\tlearn: 0.0269063\ttotal: 654ms\tremaining: 247ms\n",
      "363:\tlearn: 0.0267977\ttotal: 655ms\tremaining: 245ms\n",
      "364:\tlearn: 0.0267330\ttotal: 657ms\tremaining: 243ms\n",
      "365:\tlearn: 0.0266683\ttotal: 658ms\tremaining: 241ms\n",
      "366:\tlearn: 0.0265068\ttotal: 659ms\tremaining: 239ms\n",
      "367:\tlearn: 0.0264014\ttotal: 661ms\tremaining: 237ms\n",
      "368:\tlearn: 0.0262770\ttotal: 663ms\tremaining: 235ms\n",
      "369:\tlearn: 0.0261838\ttotal: 664ms\tremaining: 233ms\n",
      "370:\tlearn: 0.0261233\ttotal: 666ms\tremaining: 232ms\n",
      "371:\tlearn: 0.0259831\ttotal: 667ms\tremaining: 230ms\n",
      "372:\tlearn: 0.0258626\ttotal: 669ms\tremaining: 228ms\n",
      "373:\tlearn: 0.0257158\ttotal: 670ms\tremaining: 226ms\n",
      "374:\tlearn: 0.0255977\ttotal: 672ms\tremaining: 224ms\n",
      "375:\tlearn: 0.0254939\ttotal: 673ms\tremaining: 222ms\n",
      "376:\tlearn: 0.0253837\ttotal: 675ms\tremaining: 220ms\n",
      "377:\tlearn: 0.0252556\ttotal: 677ms\tremaining: 218ms\n",
      "378:\tlearn: 0.0251540\ttotal: 678ms\tremaining: 217ms\n",
      "379:\tlearn: 0.0251071\ttotal: 680ms\tremaining: 215ms\n",
      "380:\tlearn: 0.0249955\ttotal: 681ms\tremaining: 213ms\n",
      "381:\tlearn: 0.0249161\ttotal: 683ms\tremaining: 211ms\n",
      "382:\tlearn: 0.0248134\ttotal: 685ms\tremaining: 209ms\n",
      "383:\tlearn: 0.0247648\ttotal: 686ms\tremaining: 207ms\n",
      "384:\tlearn: 0.0246761\ttotal: 687ms\tremaining: 205ms\n",
      "385:\tlearn: 0.0245422\ttotal: 689ms\tremaining: 204ms\n",
      "386:\tlearn: 0.0244529\ttotal: 691ms\tremaining: 202ms\n",
      "387:\tlearn: 0.0243895\ttotal: 692ms\tremaining: 200ms\n",
      "388:\tlearn: 0.0242678\ttotal: 694ms\tremaining: 198ms\n",
      "389:\tlearn: 0.0242416\ttotal: 695ms\tremaining: 196ms\n",
      "390:\tlearn: 0.0241784\ttotal: 697ms\tremaining: 194ms\n",
      "391:\tlearn: 0.0241310\ttotal: 698ms\tremaining: 192ms\n",
      "392:\tlearn: 0.0240389\ttotal: 699ms\tremaining: 190ms\n",
      "393:\tlearn: 0.0239360\ttotal: 701ms\tremaining: 189ms\n",
      "394:\tlearn: 0.0238570\ttotal: 702ms\tremaining: 187ms\n",
      "395:\tlearn: 0.0237573\ttotal: 704ms\tremaining: 185ms\n",
      "396:\tlearn: 0.0237057\ttotal: 706ms\tremaining: 183ms\n",
      "397:\tlearn: 0.0236456\ttotal: 707ms\tremaining: 181ms\n",
      "398:\tlearn: 0.0235473\ttotal: 709ms\tremaining: 179ms\n",
      "399:\tlearn: 0.0234889\ttotal: 710ms\tremaining: 178ms\n",
      "400:\tlearn: 0.0233979\ttotal: 711ms\tremaining: 176ms\n",
      "401:\tlearn: 0.0233342\ttotal: 713ms\tremaining: 174ms\n",
      "402:\tlearn: 0.0232658\ttotal: 714ms\tremaining: 172ms\n",
      "403:\tlearn: 0.0231522\ttotal: 716ms\tremaining: 170ms\n",
      "404:\tlearn: 0.0230981\ttotal: 718ms\tremaining: 168ms\n",
      "405:\tlearn: 0.0230311\ttotal: 720ms\tremaining: 167ms\n",
      "406:\tlearn: 0.0229653\ttotal: 722ms\tremaining: 165ms\n",
      "407:\tlearn: 0.0228942\ttotal: 724ms\tremaining: 163ms\n",
      "408:\tlearn: 0.0228351\ttotal: 725ms\tremaining: 161ms\n",
      "409:\tlearn: 0.0227893\ttotal: 727ms\tremaining: 160ms\n",
      "410:\tlearn: 0.0227425\ttotal: 728ms\tremaining: 158ms\n",
      "411:\tlearn: 0.0226054\ttotal: 730ms\tremaining: 156ms\n",
      "412:\tlearn: 0.0225420\ttotal: 731ms\tremaining: 154ms\n",
      "413:\tlearn: 0.0224043\ttotal: 733ms\tremaining: 152ms\n",
      "414:\tlearn: 0.0223150\ttotal: 734ms\tremaining: 150ms\n",
      "415:\tlearn: 0.0222496\ttotal: 736ms\tremaining: 149ms\n",
      "416:\tlearn: 0.0222160\ttotal: 737ms\tremaining: 147ms\n",
      "417:\tlearn: 0.0221360\ttotal: 739ms\tremaining: 145ms\n",
      "418:\tlearn: 0.0220332\ttotal: 740ms\tremaining: 143ms\n",
      "419:\tlearn: 0.0219691\ttotal: 742ms\tremaining: 141ms\n",
      "420:\tlearn: 0.0219153\ttotal: 744ms\tremaining: 140ms\n",
      "421:\tlearn: 0.0218402\ttotal: 745ms\tremaining: 138ms\n",
      "422:\tlearn: 0.0217867\ttotal: 747ms\tremaining: 136ms\n",
      "423:\tlearn: 0.0217173\ttotal: 748ms\tremaining: 134ms\n",
      "424:\tlearn: 0.0216477\ttotal: 750ms\tremaining: 132ms\n",
      "425:\tlearn: 0.0215891\ttotal: 751ms\tremaining: 130ms\n",
      "426:\tlearn: 0.0214574\ttotal: 753ms\tremaining: 129ms\n",
      "427:\tlearn: 0.0214252\ttotal: 754ms\tremaining: 127ms\n",
      "428:\tlearn: 0.0213517\ttotal: 756ms\tremaining: 125ms\n",
      "429:\tlearn: 0.0212349\ttotal: 757ms\tremaining: 123ms\n",
      "430:\tlearn: 0.0211790\ttotal: 759ms\tremaining: 121ms\n",
      "431:\tlearn: 0.0210564\ttotal: 760ms\tremaining: 120ms\n",
      "432:\tlearn: 0.0210023\ttotal: 762ms\tremaining: 118ms\n",
      "433:\tlearn: 0.0209733\ttotal: 763ms\tremaining: 116ms\n",
      "434:\tlearn: 0.0209195\ttotal: 764ms\tremaining: 114ms\n",
      "435:\tlearn: 0.0208447\ttotal: 766ms\tremaining: 112ms\n",
      "436:\tlearn: 0.0207630\ttotal: 767ms\tremaining: 111ms\n",
      "437:\tlearn: 0.0207284\ttotal: 769ms\tremaining: 109ms\n",
      "438:\tlearn: 0.0206507\ttotal: 770ms\tremaining: 107ms\n",
      "439:\tlearn: 0.0206140\ttotal: 771ms\tremaining: 105ms\n",
      "440:\tlearn: 0.0205421\ttotal: 773ms\tremaining: 103ms\n",
      "441:\tlearn: 0.0204709\ttotal: 774ms\tremaining: 102ms\n",
      "442:\tlearn: 0.0204278\ttotal: 775ms\tremaining: 99.8ms\n",
      "443:\tlearn: 0.0203898\ttotal: 777ms\tremaining: 98ms\n",
      "444:\tlearn: 0.0203240\ttotal: 778ms\tremaining: 96.2ms\n",
      "445:\tlearn: 0.0202693\ttotal: 779ms\tremaining: 94.3ms\n",
      "446:\tlearn: 0.0201892\ttotal: 780ms\tremaining: 92.5ms\n",
      "447:\tlearn: 0.0201510\ttotal: 782ms\tremaining: 90.8ms\n",
      "448:\tlearn: 0.0200788\ttotal: 783ms\tremaining: 89ms\n",
      "449:\tlearn: 0.0200230\ttotal: 785ms\tremaining: 87.3ms\n",
      "450:\tlearn: 0.0199643\ttotal: 787ms\tremaining: 85.5ms\n",
      "451:\tlearn: 0.0199337\ttotal: 788ms\tremaining: 83.7ms\n",
      "452:\tlearn: 0.0198752\ttotal: 789ms\tremaining: 81.9ms\n",
      "453:\tlearn: 0.0197841\ttotal: 791ms\tremaining: 80.1ms\n",
      "454:\tlearn: 0.0197601\ttotal: 792ms\tremaining: 78.4ms\n",
      "455:\tlearn: 0.0196991\ttotal: 794ms\tremaining: 76.6ms\n",
      "456:\tlearn: 0.0196395\ttotal: 795ms\tremaining: 74.8ms\n",
      "457:\tlearn: 0.0195914\ttotal: 797ms\tremaining: 73.1ms\n",
      "458:\tlearn: 0.0195268\ttotal: 798ms\tremaining: 71.3ms\n",
      "459:\tlearn: 0.0194878\ttotal: 800ms\tremaining: 69.6ms\n",
      "460:\tlearn: 0.0194146\ttotal: 802ms\tremaining: 67.8ms\n",
      "461:\tlearn: 0.0193484\ttotal: 803ms\tremaining: 66ms\n",
      "462:\tlearn: 0.0192707\ttotal: 804ms\tremaining: 64.3ms\n",
      "463:\tlearn: 0.0192195\ttotal: 806ms\tremaining: 62.5ms\n",
      "464:\tlearn: 0.0191783\ttotal: 807ms\tremaining: 60.8ms\n",
      "465:\tlearn: 0.0190312\ttotal: 809ms\tremaining: 59ms\n",
      "466:\tlearn: 0.0189874\ttotal: 810ms\tremaining: 57.2ms\n",
      "467:\tlearn: 0.0189127\ttotal: 811ms\tremaining: 55.5ms\n",
      "468:\tlearn: 0.0188338\ttotal: 813ms\tremaining: 53.7ms\n",
      "469:\tlearn: 0.0187569\ttotal: 815ms\tremaining: 52ms\n",
      "470:\tlearn: 0.0186919\ttotal: 816ms\tremaining: 50.3ms\n",
      "471:\tlearn: 0.0186472\ttotal: 818ms\tremaining: 48.5ms\n",
      "472:\tlearn: 0.0185547\ttotal: 819ms\tremaining: 46.7ms\n",
      "473:\tlearn: 0.0184568\ttotal: 820ms\tremaining: 45ms\n",
      "474:\tlearn: 0.0183634\ttotal: 822ms\tremaining: 43.3ms\n",
      "475:\tlearn: 0.0183092\ttotal: 823ms\tremaining: 41.5ms\n",
      "476:\tlearn: 0.0182800\ttotal: 825ms\tremaining: 39.8ms\n",
      "477:\tlearn: 0.0181851\ttotal: 826ms\tremaining: 38ms\n",
      "478:\tlearn: 0.0181174\ttotal: 828ms\tremaining: 36.3ms\n",
      "479:\tlearn: 0.0180566\ttotal: 830ms\tremaining: 34.6ms\n",
      "480:\tlearn: 0.0180237\ttotal: 831ms\tremaining: 32.8ms\n",
      "481:\tlearn: 0.0179726\ttotal: 833ms\tremaining: 31.1ms\n",
      "482:\tlearn: 0.0179135\ttotal: 834ms\tremaining: 29.4ms\n",
      "483:\tlearn: 0.0178444\ttotal: 835ms\tremaining: 27.6ms\n",
      "484:\tlearn: 0.0177921\ttotal: 837ms\tremaining: 25.9ms\n",
      "485:\tlearn: 0.0177362\ttotal: 838ms\tremaining: 24.1ms\n",
      "486:\tlearn: 0.0176652\ttotal: 840ms\tremaining: 22.4ms\n",
      "487:\tlearn: 0.0176304\ttotal: 842ms\tremaining: 20.7ms\n",
      "488:\tlearn: 0.0175810\ttotal: 843ms\tremaining: 19ms\n",
      "489:\tlearn: 0.0175368\ttotal: 845ms\tremaining: 17.2ms\n",
      "490:\tlearn: 0.0175036\ttotal: 846ms\tremaining: 15.5ms\n",
      "491:\tlearn: 0.0174753\ttotal: 848ms\tremaining: 13.8ms\n",
      "492:\tlearn: 0.0174371\ttotal: 849ms\tremaining: 12.1ms\n",
      "493:\tlearn: 0.0173509\ttotal: 851ms\tremaining: 10.3ms\n",
      "494:\tlearn: 0.0173197\ttotal: 852ms\tremaining: 8.61ms\n",
      "495:\tlearn: 0.0172647\ttotal: 854ms\tremaining: 6.88ms\n",
      "496:\tlearn: 0.0172112\ttotal: 855ms\tremaining: 5.16ms\n",
      "497:\tlearn: 0.0171767\ttotal: 857ms\tremaining: 3.44ms\n",
      "498:\tlearn: 0.0171348\ttotal: 859ms\tremaining: 1.72ms\n",
      "499:\tlearn: 0.0170737\ttotal: 860ms\tremaining: 0us\n"
     ]
    }
   ],
   "source": [
    "cb_cv_model = GridSearchCV(cb_model,params,cv=10,n_jobs=-1).fit(X_train,y_train)"
   ]
  },
  {
   "cell_type": "code",
   "execution_count": 53,
   "id": "d934c97e",
   "metadata": {},
   "outputs": [
    {
     "name": "stdout",
     "output_type": "stream",
     "text": [
      "0:\tlearn: 1.2055458\ttotal: 1.33ms\tremaining: 663ms\n",
      "1:\tlearn: 1.0940854\ttotal: 3.11ms\tremaining: 774ms\n",
      "2:\tlearn: 0.9962843\ttotal: 5.21ms\tremaining: 863ms\n",
      "3:\tlearn: 0.9341667\ttotal: 7.27ms\tremaining: 901ms\n",
      "4:\tlearn: 0.8669234\ttotal: 8.78ms\tremaining: 869ms\n",
      "5:\tlearn: 0.8078581\ttotal: 10.2ms\tremaining: 840ms\n",
      "6:\tlearn: 0.7612249\ttotal: 11.7ms\tremaining: 823ms\n",
      "7:\tlearn: 0.7197882\ttotal: 13.2ms\tremaining: 813ms\n",
      "8:\tlearn: 0.6823066\ttotal: 14.9ms\tremaining: 815ms\n",
      "9:\tlearn: 0.6541594\ttotal: 17.6ms\tremaining: 860ms\n",
      "10:\tlearn: 0.6259311\ttotal: 19.1ms\tremaining: 848ms\n",
      "11:\tlearn: 0.6025823\ttotal: 21.1ms\tremaining: 860ms\n",
      "12:\tlearn: 0.5822324\ttotal: 22.7ms\tremaining: 850ms\n",
      "13:\tlearn: 0.5585098\ttotal: 24.2ms\tremaining: 839ms\n",
      "14:\tlearn: 0.5423305\ttotal: 25.5ms\tremaining: 826ms\n",
      "15:\tlearn: 0.5213900\ttotal: 26.9ms\tremaining: 814ms\n",
      "16:\tlearn: 0.5055117\ttotal: 28.3ms\tremaining: 804ms\n",
      "17:\tlearn: 0.4930637\ttotal: 29.7ms\tremaining: 794ms\n",
      "18:\tlearn: 0.4787137\ttotal: 32.1ms\tremaining: 812ms\n",
      "19:\tlearn: 0.4674841\ttotal: 34.1ms\tremaining: 817ms\n",
      "20:\tlearn: 0.4531343\ttotal: 35.9ms\tremaining: 818ms\n",
      "21:\tlearn: 0.4419679\ttotal: 37.6ms\tremaining: 818ms\n",
      "22:\tlearn: 0.4292873\ttotal: 39.3ms\tremaining: 815ms\n",
      "23:\tlearn: 0.4151520\ttotal: 40.9ms\tremaining: 812ms\n",
      "24:\tlearn: 0.4044910\ttotal: 42.5ms\tremaining: 808ms\n",
      "25:\tlearn: 0.3937052\ttotal: 45.1ms\tremaining: 822ms\n",
      "26:\tlearn: 0.3828779\ttotal: 47.5ms\tremaining: 832ms\n",
      "27:\tlearn: 0.3733754\ttotal: 50.1ms\tremaining: 845ms\n",
      "28:\tlearn: 0.3652038\ttotal: 51.9ms\tremaining: 843ms\n",
      "29:\tlearn: 0.3576113\ttotal: 53.6ms\tremaining: 840ms\n",
      "30:\tlearn: 0.3497645\ttotal: 55.1ms\tremaining: 834ms\n",
      "31:\tlearn: 0.3422861\ttotal: 56.6ms\tremaining: 828ms\n",
      "32:\tlearn: 0.3374746\ttotal: 58.1ms\tremaining: 822ms\n",
      "33:\tlearn: 0.3340480\ttotal: 59.8ms\tremaining: 819ms\n",
      "34:\tlearn: 0.3274546\ttotal: 62ms\tremaining: 823ms\n",
      "35:\tlearn: 0.3191175\ttotal: 63.6ms\tremaining: 820ms\n",
      "36:\tlearn: 0.3122250\ttotal: 65.3ms\tremaining: 818ms\n",
      "37:\tlearn: 0.3075409\ttotal: 67.1ms\tremaining: 816ms\n",
      "38:\tlearn: 0.3010186\ttotal: 68.8ms\tremaining: 814ms\n",
      "39:\tlearn: 0.2933287\ttotal: 70.3ms\tremaining: 809ms\n",
      "40:\tlearn: 0.2892303\ttotal: 72.1ms\tremaining: 807ms\n",
      "41:\tlearn: 0.2813695\ttotal: 74.5ms\tremaining: 813ms\n",
      "42:\tlearn: 0.2765014\ttotal: 76.1ms\tremaining: 809ms\n",
      "43:\tlearn: 0.2725135\ttotal: 77.7ms\tremaining: 805ms\n",
      "44:\tlearn: 0.2689127\ttotal: 79.5ms\tremaining: 804ms\n",
      "45:\tlearn: 0.2632204\ttotal: 81.3ms\tremaining: 802ms\n",
      "46:\tlearn: 0.2594459\ttotal: 82.7ms\tremaining: 797ms\n",
      "47:\tlearn: 0.2563345\ttotal: 84.2ms\tremaining: 793ms\n",
      "48:\tlearn: 0.2520160\ttotal: 85.7ms\tremaining: 788ms\n",
      "49:\tlearn: 0.2478475\ttotal: 88.7ms\tremaining: 798ms\n",
      "50:\tlearn: 0.2419305\ttotal: 91.3ms\tremaining: 803ms\n",
      "51:\tlearn: 0.2382731\ttotal: 93.1ms\tremaining: 802ms\n",
      "52:\tlearn: 0.2357128\ttotal: 94.9ms\tremaining: 801ms\n",
      "53:\tlearn: 0.2331440\ttotal: 96.5ms\tremaining: 797ms\n",
      "54:\tlearn: 0.2294188\ttotal: 98.1ms\tremaining: 794ms\n",
      "55:\tlearn: 0.2251294\ttotal: 99.7ms\tremaining: 790ms\n",
      "56:\tlearn: 0.2218537\ttotal: 102ms\tremaining: 790ms\n",
      "57:\tlearn: 0.2174329\ttotal: 103ms\tremaining: 788ms\n",
      "58:\tlearn: 0.2147853\ttotal: 105ms\tremaining: 784ms\n",
      "59:\tlearn: 0.2116007\ttotal: 107ms\tremaining: 787ms\n",
      "60:\tlearn: 0.2077337\ttotal: 109ms\tremaining: 784ms\n",
      "61:\tlearn: 0.2049166\ttotal: 110ms\tremaining: 780ms\n",
      "62:\tlearn: 0.2026762\ttotal: 112ms\tremaining: 775ms\n",
      "63:\tlearn: 0.2004851\ttotal: 113ms\tremaining: 771ms\n",
      "64:\tlearn: 0.1990595\ttotal: 115ms\tremaining: 769ms\n",
      "65:\tlearn: 0.1962795\ttotal: 117ms\tremaining: 767ms\n",
      "66:\tlearn: 0.1922209\ttotal: 118ms\tremaining: 764ms\n",
      "67:\tlearn: 0.1895961\ttotal: 120ms\tremaining: 761ms\n",
      "68:\tlearn: 0.1875288\ttotal: 121ms\tremaining: 759ms\n",
      "69:\tlearn: 0.1856899\ttotal: 124ms\tremaining: 759ms\n",
      "70:\tlearn: 0.1829497\ttotal: 125ms\tremaining: 757ms\n",
      "71:\tlearn: 0.1812740\ttotal: 127ms\tremaining: 754ms\n",
      "72:\tlearn: 0.1795415\ttotal: 129ms\tremaining: 752ms\n",
      "73:\tlearn: 0.1772056\ttotal: 130ms\tremaining: 750ms\n",
      "74:\tlearn: 0.1752005\ttotal: 132ms\tremaining: 748ms\n",
      "75:\tlearn: 0.1736682\ttotal: 134ms\tremaining: 748ms\n",
      "76:\tlearn: 0.1715837\ttotal: 136ms\tremaining: 746ms\n",
      "77:\tlearn: 0.1693427\ttotal: 137ms\tremaining: 742ms\n",
      "78:\tlearn: 0.1676537\ttotal: 139ms\tremaining: 739ms\n",
      "79:\tlearn: 0.1658495\ttotal: 140ms\tremaining: 735ms\n",
      "80:\tlearn: 0.1643403\ttotal: 141ms\tremaining: 731ms\n",
      "81:\tlearn: 0.1619292\ttotal: 143ms\tremaining: 731ms\n",
      "82:\tlearn: 0.1595734\ttotal: 145ms\tremaining: 728ms\n",
      "83:\tlearn: 0.1581830\ttotal: 146ms\tremaining: 725ms\n",
      "84:\tlearn: 0.1565272\ttotal: 149ms\tremaining: 725ms\n",
      "85:\tlearn: 0.1548047\ttotal: 150ms\tremaining: 723ms\n",
      "86:\tlearn: 0.1521859\ttotal: 152ms\tremaining: 722ms\n",
      "87:\tlearn: 0.1505435\ttotal: 154ms\tremaining: 719ms\n",
      "88:\tlearn: 0.1489764\ttotal: 155ms\tremaining: 716ms\n",
      "89:\tlearn: 0.1472805\ttotal: 157ms\tremaining: 715ms\n",
      "90:\tlearn: 0.1458569\ttotal: 158ms\tremaining: 712ms\n",
      "91:\tlearn: 0.1442623\ttotal: 160ms\tremaining: 710ms\n",
      "92:\tlearn: 0.1417603\ttotal: 162ms\tremaining: 708ms\n",
      "93:\tlearn: 0.1406004\ttotal: 164ms\tremaining: 706ms\n",
      "94:\tlearn: 0.1389754\ttotal: 165ms\tremaining: 705ms\n",
      "95:\tlearn: 0.1377585\ttotal: 167ms\tremaining: 702ms\n",
      "96:\tlearn: 0.1366400\ttotal: 169ms\tremaining: 700ms\n",
      "97:\tlearn: 0.1359541\ttotal: 171ms\tremaining: 700ms\n",
      "98:\tlearn: 0.1343149\ttotal: 172ms\tremaining: 698ms\n",
      "99:\tlearn: 0.1326739\ttotal: 174ms\tremaining: 695ms\n",
      "100:\tlearn: 0.1315581\ttotal: 175ms\tremaining: 693ms\n",
      "101:\tlearn: 0.1305604\ttotal: 177ms\tremaining: 690ms\n",
      "102:\tlearn: 0.1290263\ttotal: 178ms\tremaining: 688ms\n",
      "103:\tlearn: 0.1275712\ttotal: 180ms\tremaining: 685ms\n",
      "104:\tlearn: 0.1257882\ttotal: 182ms\tremaining: 683ms\n",
      "105:\tlearn: 0.1249104\ttotal: 184ms\tremaining: 684ms\n",
      "106:\tlearn: 0.1233922\ttotal: 186ms\tremaining: 684ms\n",
      "107:\tlearn: 0.1221969\ttotal: 188ms\tremaining: 682ms\n",
      "108:\tlearn: 0.1210696\ttotal: 189ms\tremaining: 679ms\n",
      "109:\tlearn: 0.1199376\ttotal: 191ms\tremaining: 677ms\n",
      "110:\tlearn: 0.1189349\ttotal: 193ms\tremaining: 676ms\n",
      "111:\tlearn: 0.1173985\ttotal: 194ms\tremaining: 673ms\n",
      "112:\tlearn: 0.1166251\ttotal: 196ms\tremaining: 671ms\n",
      "113:\tlearn: 0.1156569\ttotal: 197ms\tremaining: 668ms\n",
      "114:\tlearn: 0.1145558\ttotal: 199ms\tremaining: 668ms\n",
      "115:\tlearn: 0.1134424\ttotal: 201ms\tremaining: 665ms\n",
      "116:\tlearn: 0.1122224\ttotal: 203ms\tremaining: 663ms\n",
      "117:\tlearn: 0.1114470\ttotal: 204ms\tremaining: 662ms\n",
      "118:\tlearn: 0.1100122\ttotal: 206ms\tremaining: 659ms\n",
      "119:\tlearn: 0.1088754\ttotal: 207ms\tremaining: 657ms\n",
      "120:\tlearn: 0.1079553\ttotal: 209ms\tremaining: 655ms\n",
      "121:\tlearn: 0.1069030\ttotal: 211ms\tremaining: 654ms\n",
      "122:\tlearn: 0.1062255\ttotal: 213ms\tremaining: 653ms\n",
      "123:\tlearn: 0.1053267\ttotal: 215ms\tremaining: 652ms\n",
      "124:\tlearn: 0.1042462\ttotal: 216ms\tremaining: 649ms\n",
      "125:\tlearn: 0.1033619\ttotal: 218ms\tremaining: 647ms\n",
      "126:\tlearn: 0.1026412\ttotal: 220ms\tremaining: 645ms\n",
      "127:\tlearn: 0.1020333\ttotal: 221ms\tremaining: 643ms\n",
      "128:\tlearn: 0.1009849\ttotal: 223ms\tremaining: 642ms\n",
      "129:\tlearn: 0.1000030\ttotal: 225ms\tremaining: 641ms\n",
      "130:\tlearn: 0.0989486\ttotal: 227ms\tremaining: 640ms\n",
      "131:\tlearn: 0.0980680\ttotal: 229ms\tremaining: 638ms\n",
      "132:\tlearn: 0.0973698\ttotal: 230ms\tremaining: 635ms\n",
      "133:\tlearn: 0.0965525\ttotal: 232ms\tremaining: 633ms\n",
      "134:\tlearn: 0.0956302\ttotal: 233ms\tremaining: 631ms\n",
      "135:\tlearn: 0.0949264\ttotal: 235ms\tremaining: 629ms\n",
      "136:\tlearn: 0.0945045\ttotal: 237ms\tremaining: 627ms\n",
      "137:\tlearn: 0.0939500\ttotal: 238ms\tremaining: 624ms\n",
      "138:\tlearn: 0.0929583\ttotal: 240ms\tremaining: 622ms\n",
      "139:\tlearn: 0.0924724\ttotal: 241ms\tremaining: 620ms\n",
      "140:\tlearn: 0.0919064\ttotal: 243ms\tremaining: 618ms\n",
      "141:\tlearn: 0.0911758\ttotal: 244ms\tremaining: 615ms\n",
      "142:\tlearn: 0.0902634\ttotal: 246ms\tremaining: 614ms\n",
      "143:\tlearn: 0.0894933\ttotal: 247ms\tremaining: 612ms\n",
      "144:\tlearn: 0.0892308\ttotal: 249ms\tremaining: 610ms\n",
      "145:\tlearn: 0.0886151\ttotal: 251ms\tremaining: 608ms\n",
      "146:\tlearn: 0.0879498\ttotal: 252ms\tremaining: 606ms\n",
      "147:\tlearn: 0.0871248\ttotal: 254ms\tremaining: 604ms\n",
      "148:\tlearn: 0.0867098\ttotal: 255ms\tremaining: 602ms\n",
      "149:\tlearn: 0.0861304\ttotal: 257ms\tremaining: 599ms\n",
      "150:\tlearn: 0.0853558\ttotal: 259ms\tremaining: 597ms\n",
      "151:\tlearn: 0.0846755\ttotal: 260ms\tremaining: 595ms\n",
      "152:\tlearn: 0.0842420\ttotal: 262ms\tremaining: 594ms\n",
      "153:\tlearn: 0.0836384\ttotal: 263ms\tremaining: 591ms\n",
      "154:\tlearn: 0.0831621\ttotal: 265ms\tremaining: 589ms\n",
      "155:\tlearn: 0.0825048\ttotal: 266ms\tremaining: 587ms\n",
      "156:\tlearn: 0.0818406\ttotal: 268ms\tremaining: 585ms\n",
      "157:\tlearn: 0.0810212\ttotal: 270ms\tremaining: 584ms\n",
      "158:\tlearn: 0.0801284\ttotal: 271ms\tremaining: 582ms\n",
      "159:\tlearn: 0.0793176\ttotal: 273ms\tremaining: 580ms\n",
      "160:\tlearn: 0.0787846\ttotal: 274ms\tremaining: 578ms\n",
      "161:\tlearn: 0.0779590\ttotal: 276ms\tremaining: 577ms\n",
      "162:\tlearn: 0.0774537\ttotal: 278ms\tremaining: 575ms\n",
      "163:\tlearn: 0.0770731\ttotal: 279ms\tremaining: 572ms\n",
      "164:\tlearn: 0.0762861\ttotal: 281ms\tremaining: 571ms\n",
      "165:\tlearn: 0.0758617\ttotal: 284ms\tremaining: 571ms\n",
      "166:\tlearn: 0.0751352\ttotal: 286ms\tremaining: 570ms\n",
      "167:\tlearn: 0.0745092\ttotal: 287ms\tremaining: 567ms\n",
      "168:\tlearn: 0.0738192\ttotal: 288ms\tremaining: 565ms\n",
      "169:\tlearn: 0.0734920\ttotal: 290ms\tremaining: 563ms\n",
      "170:\tlearn: 0.0730377\ttotal: 292ms\tremaining: 561ms\n",
      "171:\tlearn: 0.0726447\ttotal: 293ms\tremaining: 559ms\n",
      "172:\tlearn: 0.0719685\ttotal: 295ms\tremaining: 557ms\n",
      "173:\tlearn: 0.0714959\ttotal: 296ms\tremaining: 555ms\n",
      "174:\tlearn: 0.0708870\ttotal: 298ms\tremaining: 553ms\n",
      "175:\tlearn: 0.0703829\ttotal: 299ms\tremaining: 551ms\n",
      "176:\tlearn: 0.0697195\ttotal: 301ms\tremaining: 550ms\n",
      "177:\tlearn: 0.0691509\ttotal: 303ms\tremaining: 548ms\n",
      "178:\tlearn: 0.0686582\ttotal: 304ms\tremaining: 546ms\n",
      "179:\tlearn: 0.0682462\ttotal: 306ms\tremaining: 544ms\n",
      "180:\tlearn: 0.0678829\ttotal: 308ms\tremaining: 542ms\n",
      "181:\tlearn: 0.0669822\ttotal: 310ms\tremaining: 542ms\n",
      "182:\tlearn: 0.0665921\ttotal: 312ms\tremaining: 540ms\n",
      "183:\tlearn: 0.0660460\ttotal: 314ms\tremaining: 538ms\n",
      "184:\tlearn: 0.0655980\ttotal: 315ms\tremaining: 537ms\n",
      "185:\tlearn: 0.0651320\ttotal: 317ms\tremaining: 534ms\n",
      "186:\tlearn: 0.0647273\ttotal: 318ms\tremaining: 532ms\n",
      "187:\tlearn: 0.0642762\ttotal: 320ms\tremaining: 531ms\n",
      "188:\tlearn: 0.0637749\ttotal: 321ms\tremaining: 529ms\n",
      "189:\tlearn: 0.0631939\ttotal: 323ms\tremaining: 527ms\n",
      "190:\tlearn: 0.0626421\ttotal: 325ms\tremaining: 525ms\n",
      "191:\tlearn: 0.0622467\ttotal: 327ms\tremaining: 525ms\n",
      "192:\tlearn: 0.0620215\ttotal: 329ms\tremaining: 524ms\n",
      "193:\tlearn: 0.0617548\ttotal: 331ms\tremaining: 523ms\n",
      "194:\tlearn: 0.0614494\ttotal: 333ms\tremaining: 521ms\n",
      "195:\tlearn: 0.0610196\ttotal: 335ms\tremaining: 519ms\n",
      "196:\tlearn: 0.0605890\ttotal: 336ms\tremaining: 517ms\n",
      "197:\tlearn: 0.0603598\ttotal: 339ms\tremaining: 516ms\n",
      "198:\tlearn: 0.0598759\ttotal: 340ms\tremaining: 515ms\n",
      "199:\tlearn: 0.0595366\ttotal: 342ms\tremaining: 513ms\n",
      "200:\tlearn: 0.0591448\ttotal: 344ms\tremaining: 511ms\n",
      "201:\tlearn: 0.0588650\ttotal: 345ms\tremaining: 509ms\n",
      "202:\tlearn: 0.0585229\ttotal: 347ms\tremaining: 507ms\n",
      "203:\tlearn: 0.0581011\ttotal: 348ms\tremaining: 506ms\n",
      "204:\tlearn: 0.0577179\ttotal: 350ms\tremaining: 504ms\n",
      "205:\tlearn: 0.0573730\ttotal: 352ms\tremaining: 502ms\n",
      "206:\tlearn: 0.0569875\ttotal: 354ms\tremaining: 501ms\n",
      "207:\tlearn: 0.0567775\ttotal: 355ms\tremaining: 499ms\n",
      "208:\tlearn: 0.0565430\ttotal: 357ms\tremaining: 498ms\n",
      "209:\tlearn: 0.0562029\ttotal: 359ms\tremaining: 496ms\n",
      "210:\tlearn: 0.0558906\ttotal: 360ms\tremaining: 494ms\n",
      "211:\tlearn: 0.0554815\ttotal: 362ms\tremaining: 491ms\n",
      "212:\tlearn: 0.0551478\ttotal: 363ms\tremaining: 490ms\n",
      "213:\tlearn: 0.0546782\ttotal: 365ms\tremaining: 488ms\n",
      "214:\tlearn: 0.0544524\ttotal: 366ms\tremaining: 486ms\n",
      "215:\tlearn: 0.0541174\ttotal: 368ms\tremaining: 484ms\n",
      "216:\tlearn: 0.0536243\ttotal: 370ms\tremaining: 482ms\n",
      "217:\tlearn: 0.0533097\ttotal: 371ms\tremaining: 480ms\n",
      "218:\tlearn: 0.0529911\ttotal: 373ms\tremaining: 478ms\n",
      "219:\tlearn: 0.0526868\ttotal: 374ms\tremaining: 476ms\n",
      "220:\tlearn: 0.0524121\ttotal: 375ms\tremaining: 474ms\n",
      "221:\tlearn: 0.0519930\ttotal: 377ms\tremaining: 472ms\n",
      "222:\tlearn: 0.0517671\ttotal: 379ms\tremaining: 470ms\n",
      "223:\tlearn: 0.0515689\ttotal: 380ms\tremaining: 468ms\n",
      "224:\tlearn: 0.0514176\ttotal: 382ms\tremaining: 466ms\n",
      "225:\tlearn: 0.0511201\ttotal: 383ms\tremaining: 464ms\n",
      "226:\tlearn: 0.0508108\ttotal: 385ms\tremaining: 463ms\n",
      "227:\tlearn: 0.0504194\ttotal: 386ms\tremaining: 461ms\n",
      "228:\tlearn: 0.0501527\ttotal: 388ms\tremaining: 459ms\n",
      "229:\tlearn: 0.0499691\ttotal: 390ms\tremaining: 458ms\n",
      "230:\tlearn: 0.0497065\ttotal: 392ms\tremaining: 456ms\n",
      "231:\tlearn: 0.0495583\ttotal: 393ms\tremaining: 454ms\n",
      "232:\tlearn: 0.0491345\ttotal: 395ms\tremaining: 452ms\n",
      "233:\tlearn: 0.0486205\ttotal: 396ms\tremaining: 450ms\n",
      "234:\tlearn: 0.0483315\ttotal: 398ms\tremaining: 449ms\n",
      "235:\tlearn: 0.0481003\ttotal: 399ms\tremaining: 447ms\n",
      "236:\tlearn: 0.0477633\ttotal: 401ms\tremaining: 445ms\n",
      "237:\tlearn: 0.0475538\ttotal: 402ms\tremaining: 443ms\n",
      "238:\tlearn: 0.0472791\ttotal: 404ms\tremaining: 441ms\n",
      "239:\tlearn: 0.0470812\ttotal: 405ms\tremaining: 439ms\n",
      "240:\tlearn: 0.0469045\ttotal: 407ms\tremaining: 437ms\n",
      "241:\tlearn: 0.0466337\ttotal: 408ms\tremaining: 435ms\n",
      "242:\tlearn: 0.0463496\ttotal: 410ms\tremaining: 433ms\n",
      "243:\tlearn: 0.0460025\ttotal: 411ms\tremaining: 432ms\n",
      "244:\tlearn: 0.0458303\ttotal: 413ms\tremaining: 430ms\n",
      "245:\tlearn: 0.0457174\ttotal: 414ms\tremaining: 428ms\n",
      "246:\tlearn: 0.0454804\ttotal: 416ms\tremaining: 426ms\n",
      "247:\tlearn: 0.0451525\ttotal: 417ms\tremaining: 424ms\n",
      "248:\tlearn: 0.0449273\ttotal: 419ms\tremaining: 422ms\n",
      "249:\tlearn: 0.0447152\ttotal: 420ms\tremaining: 420ms\n",
      "250:\tlearn: 0.0444340\ttotal: 421ms\tremaining: 418ms\n",
      "251:\tlearn: 0.0442521\ttotal: 423ms\tremaining: 416ms\n",
      "252:\tlearn: 0.0438391\ttotal: 424ms\tremaining: 414ms\n",
      "253:\tlearn: 0.0437408\ttotal: 426ms\tremaining: 412ms\n",
      "254:\tlearn: 0.0434556\ttotal: 427ms\tremaining: 411ms\n",
      "255:\tlearn: 0.0430791\ttotal: 429ms\tremaining: 409ms\n",
      "256:\tlearn: 0.0429307\ttotal: 430ms\tremaining: 407ms\n",
      "257:\tlearn: 0.0426853\ttotal: 431ms\tremaining: 405ms\n",
      "258:\tlearn: 0.0425220\ttotal: 433ms\tremaining: 403ms\n",
      "259:\tlearn: 0.0422955\ttotal: 434ms\tremaining: 401ms\n",
      "260:\tlearn: 0.0420821\ttotal: 436ms\tremaining: 399ms\n",
      "261:\tlearn: 0.0419231\ttotal: 437ms\tremaining: 397ms\n",
      "262:\tlearn: 0.0417618\ttotal: 439ms\tremaining: 395ms\n",
      "263:\tlearn: 0.0415696\ttotal: 440ms\tremaining: 393ms\n",
      "264:\tlearn: 0.0411807\ttotal: 442ms\tremaining: 392ms\n",
      "265:\tlearn: 0.0410329\ttotal: 443ms\tremaining: 390ms\n",
      "266:\tlearn: 0.0408577\ttotal: 445ms\tremaining: 388ms\n",
      "267:\tlearn: 0.0406544\ttotal: 446ms\tremaining: 386ms\n",
      "268:\tlearn: 0.0404679\ttotal: 448ms\tremaining: 384ms\n",
      "269:\tlearn: 0.0402859\ttotal: 449ms\tremaining: 383ms\n",
      "270:\tlearn: 0.0401120\ttotal: 451ms\tremaining: 381ms\n",
      "271:\tlearn: 0.0399822\ttotal: 452ms\tremaining: 379ms\n",
      "272:\tlearn: 0.0398244\ttotal: 454ms\tremaining: 377ms\n",
      "273:\tlearn: 0.0396847\ttotal: 455ms\tremaining: 376ms\n",
      "274:\tlearn: 0.0395147\ttotal: 457ms\tremaining: 374ms\n",
      "275:\tlearn: 0.0392086\ttotal: 459ms\tremaining: 372ms\n",
      "276:\tlearn: 0.0390037\ttotal: 460ms\tremaining: 370ms\n",
      "277:\tlearn: 0.0388609\ttotal: 462ms\tremaining: 369ms\n",
      "278:\tlearn: 0.0386565\ttotal: 463ms\tremaining: 367ms\n",
      "279:\tlearn: 0.0385342\ttotal: 465ms\tremaining: 366ms\n",
      "280:\tlearn: 0.0384086\ttotal: 467ms\tremaining: 364ms\n",
      "281:\tlearn: 0.0382110\ttotal: 469ms\tremaining: 363ms\n",
      "282:\tlearn: 0.0380498\ttotal: 471ms\tremaining: 361ms\n",
      "283:\tlearn: 0.0378517\ttotal: 473ms\tremaining: 359ms\n",
      "284:\tlearn: 0.0376984\ttotal: 474ms\tremaining: 358ms\n",
      "285:\tlearn: 0.0375614\ttotal: 476ms\tremaining: 356ms\n",
      "286:\tlearn: 0.0372769\ttotal: 478ms\tremaining: 355ms\n",
      "287:\tlearn: 0.0371283\ttotal: 480ms\tremaining: 353ms\n",
      "288:\tlearn: 0.0369692\ttotal: 482ms\tremaining: 352ms\n",
      "289:\tlearn: 0.0368197\ttotal: 483ms\tremaining: 350ms\n",
      "290:\tlearn: 0.0367236\ttotal: 485ms\tremaining: 348ms\n",
      "291:\tlearn: 0.0365534\ttotal: 486ms\tremaining: 347ms\n",
      "292:\tlearn: 0.0363522\ttotal: 488ms\tremaining: 345ms\n",
      "293:\tlearn: 0.0362690\ttotal: 490ms\tremaining: 343ms\n",
      "294:\tlearn: 0.0360963\ttotal: 491ms\tremaining: 342ms\n",
      "295:\tlearn: 0.0359565\ttotal: 493ms\tremaining: 340ms\n",
      "296:\tlearn: 0.0358131\ttotal: 495ms\tremaining: 338ms\n",
      "297:\tlearn: 0.0355399\ttotal: 497ms\tremaining: 337ms\n",
      "298:\tlearn: 0.0354667\ttotal: 498ms\tremaining: 335ms\n",
      "299:\tlearn: 0.0352972\ttotal: 500ms\tremaining: 333ms\n",
      "300:\tlearn: 0.0350775\ttotal: 502ms\tremaining: 332ms\n",
      "301:\tlearn: 0.0349401\ttotal: 504ms\tremaining: 330ms\n",
      "302:\tlearn: 0.0348439\ttotal: 505ms\tremaining: 329ms\n",
      "303:\tlearn: 0.0347312\ttotal: 507ms\tremaining: 327ms\n",
      "304:\tlearn: 0.0346178\ttotal: 509ms\tremaining: 326ms\n",
      "305:\tlearn: 0.0344685\ttotal: 511ms\tremaining: 324ms\n",
      "306:\tlearn: 0.0343205\ttotal: 512ms\tremaining: 322ms\n",
      "307:\tlearn: 0.0341664\ttotal: 514ms\tremaining: 320ms\n",
      "308:\tlearn: 0.0340260\ttotal: 515ms\tremaining: 319ms\n",
      "309:\tlearn: 0.0338889\ttotal: 517ms\tremaining: 317ms\n",
      "310:\tlearn: 0.0337297\ttotal: 518ms\tremaining: 315ms\n",
      "311:\tlearn: 0.0336205\ttotal: 520ms\tremaining: 313ms\n",
      "312:\tlearn: 0.0334196\ttotal: 521ms\tremaining: 311ms\n",
      "313:\tlearn: 0.0333095\ttotal: 523ms\tremaining: 310ms\n",
      "314:\tlearn: 0.0330969\ttotal: 524ms\tremaining: 308ms\n",
      "315:\tlearn: 0.0329620\ttotal: 526ms\tremaining: 306ms\n",
      "316:\tlearn: 0.0327254\ttotal: 527ms\tremaining: 304ms\n",
      "317:\tlearn: 0.0326343\ttotal: 529ms\tremaining: 303ms\n",
      "318:\tlearn: 0.0324479\ttotal: 530ms\tremaining: 301ms\n",
      "319:\tlearn: 0.0323242\ttotal: 532ms\tremaining: 299ms\n",
      "320:\tlearn: 0.0322518\ttotal: 533ms\tremaining: 297ms\n",
      "321:\tlearn: 0.0320400\ttotal: 535ms\tremaining: 296ms\n",
      "322:\tlearn: 0.0319426\ttotal: 536ms\tremaining: 294ms\n",
      "323:\tlearn: 0.0317800\ttotal: 538ms\tremaining: 292ms\n",
      "324:\tlearn: 0.0316849\ttotal: 539ms\tremaining: 290ms\n",
      "325:\tlearn: 0.0315468\ttotal: 541ms\tremaining: 289ms\n",
      "326:\tlearn: 0.0313915\ttotal: 542ms\tremaining: 287ms\n",
      "327:\tlearn: 0.0313076\ttotal: 544ms\tremaining: 285ms\n",
      "328:\tlearn: 0.0311864\ttotal: 545ms\tremaining: 283ms\n",
      "329:\tlearn: 0.0309773\ttotal: 547ms\tremaining: 282ms\n",
      "330:\tlearn: 0.0308482\ttotal: 548ms\tremaining: 280ms\n",
      "331:\tlearn: 0.0307206\ttotal: 550ms\tremaining: 278ms\n",
      "332:\tlearn: 0.0305614\ttotal: 551ms\tremaining: 277ms\n",
      "333:\tlearn: 0.0304830\ttotal: 553ms\tremaining: 275ms\n",
      "334:\tlearn: 0.0303676\ttotal: 554ms\tremaining: 273ms\n",
      "335:\tlearn: 0.0302634\ttotal: 556ms\tremaining: 271ms\n",
      "336:\tlearn: 0.0302247\ttotal: 557ms\tremaining: 269ms\n",
      "337:\tlearn: 0.0301320\ttotal: 559ms\tremaining: 268ms\n",
      "338:\tlearn: 0.0300243\ttotal: 560ms\tremaining: 266ms\n",
      "339:\tlearn: 0.0298773\ttotal: 561ms\tremaining: 264ms\n",
      "340:\tlearn: 0.0296890\ttotal: 563ms\tremaining: 263ms\n",
      "341:\tlearn: 0.0296129\ttotal: 564ms\tremaining: 261ms\n",
      "342:\tlearn: 0.0295339\ttotal: 566ms\tremaining: 259ms\n",
      "343:\tlearn: 0.0293427\ttotal: 567ms\tremaining: 257ms\n",
      "344:\tlearn: 0.0292328\ttotal: 569ms\tremaining: 256ms\n",
      "345:\tlearn: 0.0290801\ttotal: 570ms\tremaining: 254ms\n",
      "346:\tlearn: 0.0289948\ttotal: 572ms\tremaining: 252ms\n",
      "347:\tlearn: 0.0288720\ttotal: 573ms\tremaining: 250ms\n",
      "348:\tlearn: 0.0286561\ttotal: 575ms\tremaining: 249ms\n",
      "349:\tlearn: 0.0284776\ttotal: 576ms\tremaining: 247ms\n",
      "350:\tlearn: 0.0283564\ttotal: 577ms\tremaining: 245ms\n",
      "351:\tlearn: 0.0282658\ttotal: 579ms\tremaining: 243ms\n",
      "352:\tlearn: 0.0281415\ttotal: 580ms\tremaining: 242ms\n",
      "353:\tlearn: 0.0280281\ttotal: 582ms\tremaining: 240ms\n",
      "354:\tlearn: 0.0279618\ttotal: 583ms\tremaining: 238ms\n",
      "355:\tlearn: 0.0278451\ttotal: 585ms\tremaining: 236ms\n",
      "356:\tlearn: 0.0276800\ttotal: 586ms\tremaining: 235ms\n",
      "357:\tlearn: 0.0275101\ttotal: 587ms\tremaining: 233ms\n",
      "358:\tlearn: 0.0273692\ttotal: 589ms\tremaining: 231ms\n",
      "359:\tlearn: 0.0271676\ttotal: 590ms\tremaining: 230ms\n",
      "360:\tlearn: 0.0271100\ttotal: 592ms\tremaining: 228ms\n",
      "361:\tlearn: 0.0270133\ttotal: 593ms\tremaining: 226ms\n",
      "362:\tlearn: 0.0269063\ttotal: 595ms\tremaining: 224ms\n",
      "363:\tlearn: 0.0267977\ttotal: 596ms\tremaining: 223ms\n",
      "364:\tlearn: 0.0267330\ttotal: 598ms\tremaining: 221ms\n",
      "365:\tlearn: 0.0266683\ttotal: 599ms\tremaining: 219ms\n",
      "366:\tlearn: 0.0265068\ttotal: 600ms\tremaining: 217ms\n",
      "367:\tlearn: 0.0264014\ttotal: 601ms\tremaining: 216ms\n",
      "368:\tlearn: 0.0262770\ttotal: 603ms\tremaining: 214ms\n",
      "369:\tlearn: 0.0261838\ttotal: 604ms\tremaining: 212ms\n",
      "370:\tlearn: 0.0261233\ttotal: 605ms\tremaining: 210ms\n",
      "371:\tlearn: 0.0259831\ttotal: 607ms\tremaining: 209ms\n",
      "372:\tlearn: 0.0258626\ttotal: 608ms\tremaining: 207ms\n",
      "373:\tlearn: 0.0257158\ttotal: 610ms\tremaining: 205ms\n",
      "374:\tlearn: 0.0255977\ttotal: 611ms\tremaining: 204ms\n",
      "375:\tlearn: 0.0254939\ttotal: 613ms\tremaining: 202ms\n",
      "376:\tlearn: 0.0253837\ttotal: 614ms\tremaining: 200ms\n",
      "377:\tlearn: 0.0252556\ttotal: 616ms\tremaining: 199ms\n",
      "378:\tlearn: 0.0251540\ttotal: 617ms\tremaining: 197ms\n",
      "379:\tlearn: 0.0251071\ttotal: 619ms\tremaining: 195ms\n",
      "380:\tlearn: 0.0249955\ttotal: 620ms\tremaining: 194ms\n",
      "381:\tlearn: 0.0249161\ttotal: 622ms\tremaining: 192ms\n",
      "382:\tlearn: 0.0248134\ttotal: 623ms\tremaining: 190ms\n",
      "383:\tlearn: 0.0247648\ttotal: 625ms\tremaining: 189ms\n",
      "384:\tlearn: 0.0246761\ttotal: 626ms\tremaining: 187ms\n",
      "385:\tlearn: 0.0245422\ttotal: 628ms\tremaining: 186ms\n",
      "386:\tlearn: 0.0244529\ttotal: 630ms\tremaining: 184ms\n",
      "387:\tlearn: 0.0243895\ttotal: 631ms\tremaining: 182ms\n",
      "388:\tlearn: 0.0242678\ttotal: 633ms\tremaining: 181ms\n",
      "389:\tlearn: 0.0242416\ttotal: 634ms\tremaining: 179ms\n",
      "390:\tlearn: 0.0241784\ttotal: 636ms\tremaining: 177ms\n",
      "391:\tlearn: 0.0241310\ttotal: 637ms\tremaining: 176ms\n",
      "392:\tlearn: 0.0240389\ttotal: 639ms\tremaining: 174ms\n",
      "393:\tlearn: 0.0239360\ttotal: 640ms\tremaining: 172ms\n",
      "394:\tlearn: 0.0238570\ttotal: 642ms\tremaining: 171ms\n",
      "395:\tlearn: 0.0237573\ttotal: 643ms\tremaining: 169ms\n",
      "396:\tlearn: 0.0237057\ttotal: 645ms\tremaining: 167ms\n",
      "397:\tlearn: 0.0236456\ttotal: 647ms\tremaining: 166ms\n",
      "398:\tlearn: 0.0235473\ttotal: 648ms\tremaining: 164ms\n",
      "399:\tlearn: 0.0234889\ttotal: 649ms\tremaining: 162ms\n",
      "400:\tlearn: 0.0233979\ttotal: 651ms\tremaining: 161ms\n",
      "401:\tlearn: 0.0233342\ttotal: 653ms\tremaining: 159ms\n",
      "402:\tlearn: 0.0232658\ttotal: 654ms\tremaining: 158ms\n",
      "403:\tlearn: 0.0231522\ttotal: 656ms\tremaining: 156ms\n",
      "404:\tlearn: 0.0230981\ttotal: 657ms\tremaining: 154ms\n",
      "405:\tlearn: 0.0230311\ttotal: 659ms\tremaining: 153ms\n",
      "406:\tlearn: 0.0229653\ttotal: 661ms\tremaining: 151ms\n",
      "407:\tlearn: 0.0228942\ttotal: 662ms\tremaining: 149ms\n",
      "408:\tlearn: 0.0228351\ttotal: 663ms\tremaining: 148ms\n",
      "409:\tlearn: 0.0227893\ttotal: 665ms\tremaining: 146ms\n",
      "410:\tlearn: 0.0227425\ttotal: 667ms\tremaining: 144ms\n",
      "411:\tlearn: 0.0226054\ttotal: 669ms\tremaining: 143ms\n",
      "412:\tlearn: 0.0225420\ttotal: 670ms\tremaining: 141ms\n",
      "413:\tlearn: 0.0224043\ttotal: 672ms\tremaining: 140ms\n",
      "414:\tlearn: 0.0223150\ttotal: 673ms\tremaining: 138ms\n",
      "415:\tlearn: 0.0222496\ttotal: 675ms\tremaining: 136ms\n",
      "416:\tlearn: 0.0222160\ttotal: 676ms\tremaining: 135ms\n",
      "417:\tlearn: 0.0221360\ttotal: 678ms\tremaining: 133ms\n",
      "418:\tlearn: 0.0220332\ttotal: 679ms\tremaining: 131ms\n",
      "419:\tlearn: 0.0219691\ttotal: 681ms\tremaining: 130ms\n",
      "420:\tlearn: 0.0219153\ttotal: 682ms\tremaining: 128ms\n",
      "421:\tlearn: 0.0218402\ttotal: 684ms\tremaining: 126ms\n",
      "422:\tlearn: 0.0217867\ttotal: 685ms\tremaining: 125ms\n",
      "423:\tlearn: 0.0217173\ttotal: 687ms\tremaining: 123ms\n",
      "424:\tlearn: 0.0216477\ttotal: 688ms\tremaining: 121ms\n",
      "425:\tlearn: 0.0215891\ttotal: 690ms\tremaining: 120ms\n",
      "426:\tlearn: 0.0214574\ttotal: 691ms\tremaining: 118ms\n",
      "427:\tlearn: 0.0214252\ttotal: 693ms\tremaining: 117ms\n",
      "428:\tlearn: 0.0213517\ttotal: 694ms\tremaining: 115ms\n",
      "429:\tlearn: 0.0212349\ttotal: 696ms\tremaining: 113ms\n",
      "430:\tlearn: 0.0211790\ttotal: 697ms\tremaining: 112ms\n",
      "431:\tlearn: 0.0210564\ttotal: 699ms\tremaining: 110ms\n",
      "432:\tlearn: 0.0210023\ttotal: 700ms\tremaining: 108ms\n",
      "433:\tlearn: 0.0209733\ttotal: 701ms\tremaining: 107ms\n",
      "434:\tlearn: 0.0209195\ttotal: 703ms\tremaining: 105ms\n",
      "435:\tlearn: 0.0208447\ttotal: 704ms\tremaining: 103ms\n",
      "436:\tlearn: 0.0207630\ttotal: 706ms\tremaining: 102ms\n",
      "437:\tlearn: 0.0207284\ttotal: 708ms\tremaining: 100ms\n",
      "438:\tlearn: 0.0206507\ttotal: 709ms\tremaining: 98.5ms\n",
      "439:\tlearn: 0.0206140\ttotal: 711ms\tremaining: 96.9ms\n",
      "440:\tlearn: 0.0205421\ttotal: 712ms\tremaining: 95.3ms\n",
      "441:\tlearn: 0.0204709\ttotal: 714ms\tremaining: 93.6ms\n",
      "442:\tlearn: 0.0204278\ttotal: 715ms\tremaining: 92ms\n",
      "443:\tlearn: 0.0203898\ttotal: 716ms\tremaining: 90.4ms\n",
      "444:\tlearn: 0.0203240\ttotal: 718ms\tremaining: 88.7ms\n",
      "445:\tlearn: 0.0202693\ttotal: 719ms\tremaining: 87.1ms\n",
      "446:\tlearn: 0.0201892\ttotal: 721ms\tremaining: 85.4ms\n",
      "447:\tlearn: 0.0201510\ttotal: 722ms\tremaining: 83.8ms\n",
      "448:\tlearn: 0.0200788\ttotal: 723ms\tremaining: 82.2ms\n",
      "449:\tlearn: 0.0200230\ttotal: 725ms\tremaining: 80.5ms\n",
      "450:\tlearn: 0.0199643\ttotal: 726ms\tremaining: 78.9ms\n",
      "451:\tlearn: 0.0199337\ttotal: 728ms\tremaining: 77.3ms\n",
      "452:\tlearn: 0.0198752\ttotal: 729ms\tremaining: 75.7ms\n",
      "453:\tlearn: 0.0197841\ttotal: 731ms\tremaining: 74ms\n",
      "454:\tlearn: 0.0197601\ttotal: 732ms\tremaining: 72.4ms\n",
      "455:\tlearn: 0.0196991\ttotal: 734ms\tremaining: 70.8ms\n",
      "456:\tlearn: 0.0196395\ttotal: 735ms\tremaining: 69.2ms\n",
      "457:\tlearn: 0.0195914\ttotal: 737ms\tremaining: 67.6ms\n",
      "458:\tlearn: 0.0195268\ttotal: 739ms\tremaining: 66ms\n",
      "459:\tlearn: 0.0194878\ttotal: 740ms\tremaining: 64.3ms\n",
      "460:\tlearn: 0.0194146\ttotal: 741ms\tremaining: 62.7ms\n",
      "461:\tlearn: 0.0193484\ttotal: 743ms\tremaining: 61.1ms\n",
      "462:\tlearn: 0.0192707\ttotal: 744ms\tremaining: 59.5ms\n",
      "463:\tlearn: 0.0192195\ttotal: 745ms\tremaining: 57.8ms\n",
      "464:\tlearn: 0.0191783\ttotal: 747ms\tremaining: 56.2ms\n",
      "465:\tlearn: 0.0190312\ttotal: 748ms\tremaining: 54.6ms\n",
      "466:\tlearn: 0.0189874\ttotal: 749ms\tremaining: 53ms\n",
      "467:\tlearn: 0.0189127\ttotal: 751ms\tremaining: 51.3ms\n",
      "468:\tlearn: 0.0188338\ttotal: 752ms\tremaining: 49.7ms\n",
      "469:\tlearn: 0.0187569\ttotal: 754ms\tremaining: 48.1ms\n",
      "470:\tlearn: 0.0186919\ttotal: 755ms\tremaining: 46.5ms\n",
      "471:\tlearn: 0.0186472\ttotal: 757ms\tremaining: 44.9ms\n",
      "472:\tlearn: 0.0185547\ttotal: 758ms\tremaining: 43.3ms\n",
      "473:\tlearn: 0.0184568\ttotal: 760ms\tremaining: 41.7ms\n",
      "474:\tlearn: 0.0183634\ttotal: 761ms\tremaining: 40.1ms\n",
      "475:\tlearn: 0.0183092\ttotal: 762ms\tremaining: 38.4ms\n",
      "476:\tlearn: 0.0182800\ttotal: 764ms\tremaining: 36.8ms\n",
      "477:\tlearn: 0.0181851\ttotal: 765ms\tremaining: 35.2ms\n",
      "478:\tlearn: 0.0181174\ttotal: 767ms\tremaining: 33.6ms\n",
      "479:\tlearn: 0.0180566\ttotal: 768ms\tremaining: 32ms\n",
      "480:\tlearn: 0.0180237\ttotal: 770ms\tremaining: 30.4ms\n",
      "481:\tlearn: 0.0179726\ttotal: 771ms\tremaining: 28.8ms\n",
      "482:\tlearn: 0.0179135\ttotal: 773ms\tremaining: 27.2ms\n",
      "483:\tlearn: 0.0178444\ttotal: 774ms\tremaining: 25.6ms\n",
      "484:\tlearn: 0.0177921\ttotal: 776ms\tremaining: 24ms\n",
      "485:\tlearn: 0.0177362\ttotal: 777ms\tremaining: 22.4ms\n",
      "486:\tlearn: 0.0176652\ttotal: 779ms\tremaining: 20.8ms\n",
      "487:\tlearn: 0.0176304\ttotal: 780ms\tremaining: 19.2ms\n",
      "488:\tlearn: 0.0175810\ttotal: 782ms\tremaining: 17.6ms\n",
      "489:\tlearn: 0.0175368\ttotal: 783ms\tremaining: 16ms\n",
      "490:\tlearn: 0.0175036\ttotal: 785ms\tremaining: 14.4ms\n",
      "491:\tlearn: 0.0174753\ttotal: 787ms\tremaining: 12.8ms\n",
      "492:\tlearn: 0.0174371\ttotal: 788ms\tremaining: 11.2ms\n",
      "493:\tlearn: 0.0173509\ttotal: 790ms\tremaining: 9.59ms\n",
      "494:\tlearn: 0.0173197\ttotal: 791ms\tremaining: 7.99ms\n",
      "495:\tlearn: 0.0172647\ttotal: 793ms\tremaining: 6.4ms\n",
      "496:\tlearn: 0.0172112\ttotal: 795ms\tremaining: 4.8ms\n",
      "497:\tlearn: 0.0171767\ttotal: 796ms\tremaining: 3.2ms\n",
      "498:\tlearn: 0.0171348\ttotal: 798ms\tremaining: 1.6ms\n",
      "499:\tlearn: 0.0170737\ttotal: 800ms\tremaining: 0us\n"
     ]
    }
   ],
   "source": [
    "cb_best = cb_model.set_params(**cb_cv_model.best_params_).fit(X_train,y_train)"
   ]
  },
  {
   "cell_type": "code",
   "execution_count": 54,
   "id": "c0bdb2b9",
   "metadata": {},
   "outputs": [],
   "source": [
    "y_pred = cb_best.predict(X_test)"
   ]
  },
  {
   "cell_type": "code",
   "execution_count": 55,
   "id": "1b77b9b2",
   "metadata": {},
   "outputs": [
    {
     "name": "stdout",
     "output_type": "stream",
     "text": [
      "              precision    recall  f1-score   support\n",
      "\n",
      "           0       1.00      1.00      1.00        76\n",
      "           1       1.00      1.00      1.00        14\n",
      "           2       1.00      1.00      1.00       240\n",
      "           3       1.00      1.00      1.00        13\n",
      "\n",
      "    accuracy                           1.00       343\n",
      "   macro avg       1.00      1.00      1.00       343\n",
      "weighted avg       1.00      1.00      1.00       343\n",
      "\n"
     ]
    }
   ],
   "source": [
    "print(classification_report(y_test,y_pred))"
   ]
  },
  {
   "cell_type": "code",
   "execution_count": 56,
   "id": "1e00d65a",
   "metadata": {},
   "outputs": [
    {
     "data": {
      "text/plain": [
       "1.0"
      ]
     },
     "execution_count": 56,
     "metadata": {},
     "output_type": "execute_result"
    }
   ],
   "source": [
    "accuracy_score(y_test,y_pred)"
   ]
  },
  {
   "cell_type": "code",
   "execution_count": 57,
   "id": "b4f7b56c",
   "metadata": {},
   "outputs": [],
   "source": [
    "# XGB CLASSİFİER "
   ]
  },
  {
   "cell_type": "code",
   "execution_count": 58,
   "id": "8f1d3da9",
   "metadata": {},
   "outputs": [],
   "source": [
    "xgb_model = XGBClassifier()"
   ]
  },
  {
   "cell_type": "code",
   "execution_count": 59,
   "id": "bf7fd536",
   "metadata": {},
   "outputs": [],
   "source": [
    "params={\"max_depth\":[2,3,5,7,9,11],\n",
    "       \"colsample_bytree\":[0.5,0.7,0.9,1],\n",
    "       \"eta\":[0.01,0.05,0.1,0.2],\n",
    "       \"n_estimators\":[100,200,300,500]}"
   ]
  },
  {
   "cell_type": "code",
   "execution_count": 60,
   "id": "852f27d3",
   "metadata": {},
   "outputs": [
    {
     "name": "stdout",
     "output_type": "stream",
     "text": [
      "              precision    recall  f1-score   support\n",
      "\n",
      "           0       0.99      0.93      0.96        76\n",
      "           1       0.81      0.93      0.87        14\n",
      "           2       0.99      1.00      1.00       240\n",
      "           3       1.00      1.00      1.00        13\n",
      "\n",
      "    accuracy                           0.98       343\n",
      "   macro avg       0.95      0.97      0.96       343\n",
      "weighted avg       0.98      0.98      0.98       343\n",
      "\n"
     ]
    }
   ],
   "source": [
    "xgb_cv_model = GridSearchCV(xgb_model,params,cv=10,n_jobs=-1).fit(X_train,y_train)\n",
    "xgb_best = xgb_model.set_params(**xgb_cv_model.best_params_).fit(X_train,y_train)\n",
    "y_pred = xgb_best.predict(X_test)\n",
    "print(classification_report(y_test,y_pred))"
   ]
  },
  {
   "cell_type": "code",
   "execution_count": 61,
   "id": "c35329b4",
   "metadata": {},
   "outputs": [
    {
     "data": {
      "text/plain": [
       "0.9825072886297376"
      ]
     },
     "execution_count": 61,
     "metadata": {},
     "output_type": "execute_result"
    }
   ],
   "source": [
    "accuracy_score(y_test,y_pred)"
   ]
  },
  {
   "cell_type": "code",
   "execution_count": 62,
   "id": "58615a9e",
   "metadata": {},
   "outputs": [],
   "source": [
    "# DESİCİON TREE"
   ]
  },
  {
   "cell_type": "code",
   "execution_count": 63,
   "id": "7bfbfaa6",
   "metadata": {},
   "outputs": [],
   "source": [
    "dt_model = DecisionTreeClassifier()"
   ]
  },
  {
   "cell_type": "code",
   "execution_count": 64,
   "id": "96654290",
   "metadata": {},
   "outputs": [],
   "source": [
    "params = {'criterion': ['gini', 'entropy'],\n",
    "        'splitter': ['best', 'random'],\n",
    "        'max_depth': [None, 5, 10, 20, 30],\n",
    "        'min_samples_split': [2, 3, 5, 10],\n",
    "        'min_samples_leaf': [1, 2, 4]\n",
    "         }"
   ]
  },
  {
   "cell_type": "code",
   "execution_count": 65,
   "id": "367b4cca",
   "metadata": {},
   "outputs": [
    {
     "name": "stdout",
     "output_type": "stream",
     "text": [
      "              precision    recall  f1-score   support\n",
      "\n",
      "           0       0.95      0.93      0.94        76\n",
      "           1       0.81      0.93      0.87        14\n",
      "           2       0.99      0.98      0.99       240\n",
      "           3       0.93      1.00      0.96        13\n",
      "\n",
      "    accuracy                           0.97       343\n",
      "   macro avg       0.92      0.96      0.94       343\n",
      "weighted avg       0.97      0.97      0.97       343\n",
      "\n"
     ]
    }
   ],
   "source": [
    "dt_cv_model = GridSearchCV(dt_model,params,cv=10,n_jobs=-1).fit(X_train,y_train)\n",
    "dt_best = dt_model.set_params(**dt_cv_model.best_params_).fit(X_train,y_train)\n",
    "y_pred = dt_best.predict(X_test)\n",
    "print(classification_report(y_test,y_pred))"
   ]
  },
  {
   "cell_type": "code",
   "execution_count": 66,
   "id": "f92bf2d9",
   "metadata": {},
   "outputs": [
    {
     "data": {
      "text/plain": [
       "0.9708454810495627"
      ]
     },
     "execution_count": 66,
     "metadata": {},
     "output_type": "execute_result"
    }
   ],
   "source": [
    "accuracy_score(y_test,y_pred)"
   ]
  },
  {
   "cell_type": "code",
   "execution_count": 67,
   "id": "b62ca617",
   "metadata": {},
   "outputs": [],
   "source": [
    "#Gradient Boosting"
   ]
  },
  {
   "cell_type": "code",
   "execution_count": 68,
   "id": "f9eb5a45",
   "metadata": {},
   "outputs": [],
   "source": [
    "gb_model = GradientBoostingClassifier()"
   ]
  },
  {
   "cell_type": "code",
   "execution_count": 69,
   "id": "b0ff7a08",
   "metadata": {},
   "outputs": [],
   "source": [
    "params = {\"max_depth\":[5,10,20,30],\n",
    "         \"min_samples_split\":[2,3,5,7,9],\n",
    "         'learning_rate': [0.01,0.05, 0.1],\n",
    "         \"n_estimators\":[100,200,300,500]}"
   ]
  },
  {
   "cell_type": "code",
   "execution_count": 70,
   "id": "4a892c1d",
   "metadata": {},
   "outputs": [
    {
     "name": "stdout",
     "output_type": "stream",
     "text": [
      "              precision    recall  f1-score   support\n",
      "\n",
      "           0       0.99      0.96      0.97        76\n",
      "           1       0.81      0.93      0.87        14\n",
      "           2       1.00      1.00      1.00       240\n",
      "           3       1.00      1.00      1.00        13\n",
      "\n",
      "    accuracy                           0.99       343\n",
      "   macro avg       0.95      0.97      0.96       343\n",
      "weighted avg       0.99      0.99      0.99       343\n",
      "\n"
     ]
    }
   ],
   "source": [
    "gb_cv_model = GridSearchCV(gb_model,params,cv=10,n_jobs=-1).fit(X_train,y_train)\n",
    "gb_best = gb_model.set_params(**gb_cv_model.best_params_).fit(X_train,y_train)\n",
    "y_pred = gb_best.predict(X_test)\n",
    "print(classification_report(y_test,y_pred))"
   ]
  },
  {
   "cell_type": "code",
   "execution_count": 71,
   "id": "fa9ed9df",
   "metadata": {},
   "outputs": [
    {
     "data": {
      "text/plain": [
       "0.9883381924198251"
      ]
     },
     "execution_count": 71,
     "metadata": {},
     "output_type": "execute_result"
    }
   ],
   "source": [
    "accuracy_score(y_test,y_pred)"
   ]
  },
  {
   "cell_type": "code",
   "execution_count": 72,
   "id": "fc0ce9de",
   "metadata": {},
   "outputs": [],
   "source": [
    "# GRADİENT BOOSTİNG EN İYİ MODELİ GÖSTERMİŞTİR CAT BOOST ACCURACY 1 OLMASI OVERFİTTİNG BİR MODEL MANASINA GELİR"
   ]
  },
  {
   "cell_type": "code",
   "execution_count": null,
   "id": "e8574213",
   "metadata": {},
   "outputs": [],
   "source": []
  }
 ],
 "metadata": {
  "kernelspec": {
   "display_name": "Python 3 (ipykernel)",
   "language": "python",
   "name": "python3"
  },
  "language_info": {
   "codemirror_mode": {
    "name": "ipython",
    "version": 3
   },
   "file_extension": ".py",
   "mimetype": "text/x-python",
   "name": "python",
   "nbconvert_exporter": "python",
   "pygments_lexer": "ipython3",
   "version": "3.9.12"
  }
 },
 "nbformat": 4,
 "nbformat_minor": 5
}
